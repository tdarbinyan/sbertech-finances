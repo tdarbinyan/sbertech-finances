{
 "cells": [
  {
   "cell_type": "markdown",
   "id": "b4e07cee",
   "metadata": {},
   "source": [
    "# Проект по \"Введению в финансовые рынки\" по теме \"Дебиторская задолженность\""
   ]
  },
  {
   "cell_type": "markdown",
   "id": "8fdf7702",
   "metadata": {},
   "source": [
    "### **0. Установка зависимостей**\n",
    "\n",
    "Зависимости и их версии перечислены в файле `requirements.txt`"
   ]
  },
  {
   "cell_type": "code",
   "execution_count": 6,
   "id": "fc5659ed",
   "metadata": {},
   "outputs": [
    {
     "name": "stdout",
     "output_type": "stream",
     "text": [
      "Defaulting to user installation because normal site-packages is not writeable\n",
      "Requirement already satisfied: numpy==1.26.4 in c:\\users\\darbi\\appdata\\local\\packages\\pythonsoftwarefoundation.python.3.12_qbz5n2kfra8p0\\localcache\\local-packages\\python312\\site-packages (from -r requirements.txt (line 1)) (1.26.4)\n",
      "Requirement already satisfied: pandas==2.2.3 in c:\\users\\darbi\\appdata\\local\\packages\\pythonsoftwarefoundation.python.3.12_qbz5n2kfra8p0\\localcache\\local-packages\\python312\\site-packages (from -r requirements.txt (line 2)) (2.2.3)\n",
      "Requirement already satisfied: seaborn==0.13.2 in c:\\users\\darbi\\appdata\\local\\packages\\pythonsoftwarefoundation.python.3.12_qbz5n2kfra8p0\\localcache\\local-packages\\python312\\site-packages (from -r requirements.txt (line 3)) (0.13.2)\n",
      "Requirement already satisfied: scikit-learn==1.5.2 in c:\\users\\darbi\\appdata\\local\\packages\\pythonsoftwarefoundation.python.3.12_qbz5n2kfra8p0\\localcache\\local-packages\\python312\\site-packages (from -r requirements.txt (line 4)) (1.5.2)\n",
      "Requirement already satisfied: optuna==4.1.0 in c:\\users\\darbi\\appdata\\local\\packages\\pythonsoftwarefoundation.python.3.12_qbz5n2kfra8p0\\localcache\\local-packages\\python312\\site-packages (from -r requirements.txt (line 5)) (4.1.0)\n",
      "Requirement already satisfied: catboost==1.2.7 in c:\\users\\darbi\\appdata\\local\\packages\\pythonsoftwarefoundation.python.3.12_qbz5n2kfra8p0\\localcache\\local-packages\\python312\\site-packages (from -r requirements.txt (line 6)) (1.2.7)\n",
      "Requirement already satisfied: python-dateutil>=2.8.2 in c:\\users\\darbi\\appdata\\local\\packages\\pythonsoftwarefoundation.python.3.12_qbz5n2kfra8p0\\localcache\\local-packages\\python312\\site-packages (from pandas==2.2.3->-r requirements.txt (line 2)) (2.9.0.post0)\n",
      "Requirement already satisfied: pytz>=2020.1 in c:\\users\\darbi\\appdata\\local\\packages\\pythonsoftwarefoundation.python.3.12_qbz5n2kfra8p0\\localcache\\local-packages\\python312\\site-packages (from pandas==2.2.3->-r requirements.txt (line 2)) (2024.2)\n",
      "Requirement already satisfied: tzdata>=2022.7 in c:\\users\\darbi\\appdata\\local\\packages\\pythonsoftwarefoundation.python.3.12_qbz5n2kfra8p0\\localcache\\local-packages\\python312\\site-packages (from pandas==2.2.3->-r requirements.txt (line 2)) (2024.2)\n",
      "Requirement already satisfied: matplotlib!=3.6.1,>=3.4 in c:\\users\\darbi\\appdata\\local\\packages\\pythonsoftwarefoundation.python.3.12_qbz5n2kfra8p0\\localcache\\local-packages\\python312\\site-packages (from seaborn==0.13.2->-r requirements.txt (line 3)) (3.9.2)\n",
      "Requirement already satisfied: scipy>=1.6.0 in c:\\users\\darbi\\appdata\\local\\packages\\pythonsoftwarefoundation.python.3.12_qbz5n2kfra8p0\\localcache\\local-packages\\python312\\site-packages (from scikit-learn==1.5.2->-r requirements.txt (line 4)) (1.14.1)\n",
      "Requirement already satisfied: joblib>=1.2.0 in c:\\users\\darbi\\appdata\\local\\packages\\pythonsoftwarefoundation.python.3.12_qbz5n2kfra8p0\\localcache\\local-packages\\python312\\site-packages (from scikit-learn==1.5.2->-r requirements.txt (line 4)) (1.4.2)\n",
      "Requirement already satisfied: threadpoolctl>=3.1.0 in c:\\users\\darbi\\appdata\\local\\packages\\pythonsoftwarefoundation.python.3.12_qbz5n2kfra8p0\\localcache\\local-packages\\python312\\site-packages (from scikit-learn==1.5.2->-r requirements.txt (line 4)) (3.5.0)\n",
      "Requirement already satisfied: alembic>=1.5.0 in c:\\users\\darbi\\appdata\\local\\packages\\pythonsoftwarefoundation.python.3.12_qbz5n2kfra8p0\\localcache\\local-packages\\python312\\site-packages (from optuna==4.1.0->-r requirements.txt (line 5)) (1.14.0)\n",
      "Requirement already satisfied: colorlog in c:\\users\\darbi\\appdata\\local\\packages\\pythonsoftwarefoundation.python.3.12_qbz5n2kfra8p0\\localcache\\local-packages\\python312\\site-packages (from optuna==4.1.0->-r requirements.txt (line 5)) (6.9.0)\n",
      "Requirement already satisfied: packaging>=20.0 in c:\\users\\darbi\\appdata\\local\\packages\\pythonsoftwarefoundation.python.3.12_qbz5n2kfra8p0\\localcache\\local-packages\\python312\\site-packages (from optuna==4.1.0->-r requirements.txt (line 5)) (24.1)\n",
      "Requirement already satisfied: sqlalchemy>=1.4.2 in c:\\users\\darbi\\appdata\\local\\packages\\pythonsoftwarefoundation.python.3.12_qbz5n2kfra8p0\\localcache\\local-packages\\python312\\site-packages (from optuna==4.1.0->-r requirements.txt (line 5)) (2.0.36)\n",
      "Requirement already satisfied: tqdm in c:\\users\\darbi\\appdata\\local\\packages\\pythonsoftwarefoundation.python.3.12_qbz5n2kfra8p0\\localcache\\local-packages\\python312\\site-packages (from optuna==4.1.0->-r requirements.txt (line 5)) (4.67.1)\n",
      "Requirement already satisfied: PyYAML in c:\\users\\darbi\\appdata\\local\\packages\\pythonsoftwarefoundation.python.3.12_qbz5n2kfra8p0\\localcache\\local-packages\\python312\\site-packages (from optuna==4.1.0->-r requirements.txt (line 5)) (6.0.2)\n",
      "Requirement already satisfied: graphviz in c:\\users\\darbi\\appdata\\local\\packages\\pythonsoftwarefoundation.python.3.12_qbz5n2kfra8p0\\localcache\\local-packages\\python312\\site-packages (from catboost==1.2.7->-r requirements.txt (line 6)) (0.20.3)\n",
      "Requirement already satisfied: plotly in c:\\users\\darbi\\appdata\\local\\packages\\pythonsoftwarefoundation.python.3.12_qbz5n2kfra8p0\\localcache\\local-packages\\python312\\site-packages (from catboost==1.2.7->-r requirements.txt (line 6)) (5.24.1)\n",
      "Requirement already satisfied: six in c:\\users\\darbi\\appdata\\local\\packages\\pythonsoftwarefoundation.python.3.12_qbz5n2kfra8p0\\localcache\\local-packages\\python312\\site-packages (from catboost==1.2.7->-r requirements.txt (line 6)) (1.16.0)\n",
      "Requirement already satisfied: Mako in c:\\users\\darbi\\appdata\\local\\packages\\pythonsoftwarefoundation.python.3.12_qbz5n2kfra8p0\\localcache\\local-packages\\python312\\site-packages (from alembic>=1.5.0->optuna==4.1.0->-r requirements.txt (line 5)) (1.3.6)\n",
      "Requirement already satisfied: typing-extensions>=4 in c:\\users\\darbi\\appdata\\local\\packages\\pythonsoftwarefoundation.python.3.12_qbz5n2kfra8p0\\localcache\\local-packages\\python312\\site-packages (from alembic>=1.5.0->optuna==4.1.0->-r requirements.txt (line 5)) (4.10.0)\n",
      "Requirement already satisfied: contourpy>=1.0.1 in c:\\users\\darbi\\appdata\\local\\packages\\pythonsoftwarefoundation.python.3.12_qbz5n2kfra8p0\\localcache\\local-packages\\python312\\site-packages (from matplotlib!=3.6.1,>=3.4->seaborn==0.13.2->-r requirements.txt (line 3)) (1.3.0)\n",
      "Requirement already satisfied: cycler>=0.10 in c:\\users\\darbi\\appdata\\local\\packages\\pythonsoftwarefoundation.python.3.12_qbz5n2kfra8p0\\localcache\\local-packages\\python312\\site-packages (from matplotlib!=3.6.1,>=3.4->seaborn==0.13.2->-r requirements.txt (line 3)) (0.12.1)\n",
      "Requirement already satisfied: fonttools>=4.22.0 in c:\\users\\darbi\\appdata\\local\\packages\\pythonsoftwarefoundation.python.3.12_qbz5n2kfra8p0\\localcache\\local-packages\\python312\\site-packages (from matplotlib!=3.6.1,>=3.4->seaborn==0.13.2->-r requirements.txt (line 3)) (4.54.1)\n",
      "Requirement already satisfied: kiwisolver>=1.3.1 in c:\\users\\darbi\\appdata\\local\\packages\\pythonsoftwarefoundation.python.3.12_qbz5n2kfra8p0\\localcache\\local-packages\\python312\\site-packages (from matplotlib!=3.6.1,>=3.4->seaborn==0.13.2->-r requirements.txt (line 3)) (1.4.7)\n",
      "Requirement already satisfied: pillow>=8 in c:\\users\\darbi\\appdata\\local\\packages\\pythonsoftwarefoundation.python.3.12_qbz5n2kfra8p0\\localcache\\local-packages\\python312\\site-packages (from matplotlib!=3.6.1,>=3.4->seaborn==0.13.2->-r requirements.txt (line 3)) (10.4.0)\n",
      "Requirement already satisfied: pyparsing>=2.3.1 in c:\\users\\darbi\\appdata\\local\\packages\\pythonsoftwarefoundation.python.3.12_qbz5n2kfra8p0\\localcache\\local-packages\\python312\\site-packages (from matplotlib!=3.6.1,>=3.4->seaborn==0.13.2->-r requirements.txt (line 3)) (3.1.4)\n",
      "Requirement already satisfied: greenlet!=0.4.17 in c:\\users\\darbi\\appdata\\local\\packages\\pythonsoftwarefoundation.python.3.12_qbz5n2kfra8p0\\localcache\\local-packages\\python312\\site-packages (from sqlalchemy>=1.4.2->optuna==4.1.0->-r requirements.txt (line 5)) (3.1.1)\n",
      "Requirement already satisfied: colorama in c:\\users\\darbi\\appdata\\local\\packages\\pythonsoftwarefoundation.python.3.12_qbz5n2kfra8p0\\localcache\\local-packages\\python312\\site-packages (from colorlog->optuna==4.1.0->-r requirements.txt (line 5)) (0.4.6)\n",
      "Requirement already satisfied: tenacity>=6.2.0 in c:\\users\\darbi\\appdata\\local\\packages\\pythonsoftwarefoundation.python.3.12_qbz5n2kfra8p0\\localcache\\local-packages\\python312\\site-packages (from plotly->catboost==1.2.7->-r requirements.txt (line 6)) (9.0.0)\n",
      "Requirement already satisfied: MarkupSafe>=0.9.2 in c:\\users\\darbi\\appdata\\local\\packages\\pythonsoftwarefoundation.python.3.12_qbz5n2kfra8p0\\localcache\\local-packages\\python312\\site-packages (from Mako->alembic>=1.5.0->optuna==4.1.0->-r requirements.txt (line 5)) (3.0.2)\n"
     ]
    },
    {
     "name": "stderr",
     "output_type": "stream",
     "text": [
      "\n",
      "[notice] A new release of pip is available: 24.2 -> 24.3.1\n",
      "[notice] To update, run: C:\\Users\\darbi\\AppData\\Local\\Microsoft\\WindowsApps\\PythonSoftwareFoundation.Python.3.12_qbz5n2kfra8p0\\python.exe -m pip install --upgrade pip\n"
     ]
    }
   ],
   "source": [
    "!pip3 install -r requirements.txt"
   ]
  },
  {
   "cell_type": "code",
   "execution_count": 2,
   "id": "6375d73c",
   "metadata": {},
   "outputs": [
    {
     "name": "stderr",
     "output_type": "stream",
     "text": [
      "C:\\Users\\darbi\\AppData\\Local\\Packages\\PythonSoftwareFoundation.Python.3.12_qbz5n2kfra8p0\\LocalCache\\local-packages\\Python312\\site-packages\\tqdm\\auto.py:21: TqdmWarning: IProgress not found. Please update jupyter and ipywidgets. See https://ipywidgets.readthedocs.io/en/stable/user_install.html\n",
      "  from .autonotebook import tqdm as notebook_tqdm\n"
     ]
    }
   ],
   "source": [
    "import pandas as pd\n",
    "import numpy as np\n",
    "\n",
    "import matplotlib.pyplot as plt\n",
    "\n",
    "import seaborn as sns\n",
    "import optuna\n",
    "\n",
    "from catboost import CatBoostClassifier, Pool\n",
    "\n",
    "from sklearn.model_selection import train_test_split, GridSearchCV\n",
    "from sklearn.neighbors import KNeighborsClassifier\n",
    "from sklearn.metrics import accuracy_score, classification_report, mean_squared_error, mean_absolute_error, r2_score, roc_curve, roc_auc_score\n",
    "from sklearn.preprocessing import StandardScaler\n",
    "from sklearn.ensemble import RandomForestClassifier, RandomForestRegressor\n"
   ]
  },
  {
   "cell_type": "markdown",
   "id": "fbc3adfc",
   "metadata": {},
   "source": [
    "### **1. Ознакомление с данными и их предварительная обработка**"
   ]
  },
  {
   "cell_type": "code",
   "execution_count": 11,
   "id": "5ee84098",
   "metadata": {},
   "outputs": [
    {
     "data": {
      "text/html": [
       "<div>\n",
       "<style scoped>\n",
       "    .dataframe tbody tr th:only-of-type {\n",
       "        vertical-align: middle;\n",
       "    }\n",
       "\n",
       "    .dataframe tbody tr th {\n",
       "        vertical-align: top;\n",
       "    }\n",
       "\n",
       "    .dataframe thead th {\n",
       "        text-align: right;\n",
       "    }\n",
       "</style>\n",
       "<table border=\"1\" class=\"dataframe\">\n",
       "  <thead>\n",
       "    <tr style=\"text-align: right;\">\n",
       "      <th></th>\n",
       "      <th>countryCode</th>\n",
       "      <th>customerID</th>\n",
       "      <th>PaperlessDate</th>\n",
       "      <th>invoiceNumber</th>\n",
       "      <th>InvoiceDate</th>\n",
       "      <th>DueDate</th>\n",
       "      <th>InvoiceAmount</th>\n",
       "      <th>Disputed</th>\n",
       "      <th>SettledDate</th>\n",
       "      <th>PaperlessBill</th>\n",
       "      <th>DaysToSettle</th>\n",
       "      <th>DaysLate</th>\n",
       "    </tr>\n",
       "  </thead>\n",
       "  <tbody>\n",
       "    <tr>\n",
       "      <th>0</th>\n",
       "      <td>391</td>\n",
       "      <td>0379-NEVHP</td>\n",
       "      <td>4/6/2013</td>\n",
       "      <td>611365</td>\n",
       "      <td>1/2/2013</td>\n",
       "      <td>2/1/2013</td>\n",
       "      <td>55.94</td>\n",
       "      <td>No</td>\n",
       "      <td>1/15/2013</td>\n",
       "      <td>Paper</td>\n",
       "      <td>13</td>\n",
       "      <td>0</td>\n",
       "    </tr>\n",
       "    <tr>\n",
       "      <th>1</th>\n",
       "      <td>406</td>\n",
       "      <td>8976-AMJEO</td>\n",
       "      <td>3/3/2012</td>\n",
       "      <td>7900770</td>\n",
       "      <td>1/26/2013</td>\n",
       "      <td>2/25/2013</td>\n",
       "      <td>61.74</td>\n",
       "      <td>Yes</td>\n",
       "      <td>3/3/2013</td>\n",
       "      <td>Electronic</td>\n",
       "      <td>36</td>\n",
       "      <td>6</td>\n",
       "    </tr>\n",
       "    <tr>\n",
       "      <th>2</th>\n",
       "      <td>391</td>\n",
       "      <td>2820-XGXSB</td>\n",
       "      <td>1/26/2012</td>\n",
       "      <td>9231909</td>\n",
       "      <td>7/3/2013</td>\n",
       "      <td>8/2/2013</td>\n",
       "      <td>65.88</td>\n",
       "      <td>No</td>\n",
       "      <td>7/8/2013</td>\n",
       "      <td>Electronic</td>\n",
       "      <td>5</td>\n",
       "      <td>0</td>\n",
       "    </tr>\n",
       "    <tr>\n",
       "      <th>3</th>\n",
       "      <td>406</td>\n",
       "      <td>9322-YCTQO</td>\n",
       "      <td>4/6/2012</td>\n",
       "      <td>9888306</td>\n",
       "      <td>2/10/2013</td>\n",
       "      <td>3/12/2013</td>\n",
       "      <td>105.92</td>\n",
       "      <td>No</td>\n",
       "      <td>3/17/2013</td>\n",
       "      <td>Electronic</td>\n",
       "      <td>35</td>\n",
       "      <td>5</td>\n",
       "    </tr>\n",
       "    <tr>\n",
       "      <th>4</th>\n",
       "      <td>818</td>\n",
       "      <td>6627-ELFBK</td>\n",
       "      <td>11/26/2012</td>\n",
       "      <td>15752855</td>\n",
       "      <td>10/25/2012</td>\n",
       "      <td>11/24/2012</td>\n",
       "      <td>72.27</td>\n",
       "      <td>Yes</td>\n",
       "      <td>11/28/2012</td>\n",
       "      <td>Paper</td>\n",
       "      <td>34</td>\n",
       "      <td>4</td>\n",
       "    </tr>\n",
       "    <tr>\n",
       "      <th>5</th>\n",
       "      <td>818</td>\n",
       "      <td>5148-SYKLB</td>\n",
       "      <td>8/28/2013</td>\n",
       "      <td>18104516</td>\n",
       "      <td>1/27/2012</td>\n",
       "      <td>2/26/2012</td>\n",
       "      <td>94.00</td>\n",
       "      <td>Yes</td>\n",
       "      <td>2/22/2012</td>\n",
       "      <td>Paper</td>\n",
       "      <td>26</td>\n",
       "      <td>0</td>\n",
       "    </tr>\n",
       "    <tr>\n",
       "      <th>6</th>\n",
       "      <td>897</td>\n",
       "      <td>8690-EEBEO</td>\n",
       "      <td>12/5/2012</td>\n",
       "      <td>23864272</td>\n",
       "      <td>8/13/2013</td>\n",
       "      <td>9/12/2013</td>\n",
       "      <td>74.69</td>\n",
       "      <td>No</td>\n",
       "      <td>9/9/2013</td>\n",
       "      <td>Electronic</td>\n",
       "      <td>27</td>\n",
       "      <td>0</td>\n",
       "    </tr>\n",
       "    <tr>\n",
       "      <th>7</th>\n",
       "      <td>770</td>\n",
       "      <td>4460-ZXNDN</td>\n",
       "      <td>6/27/2013</td>\n",
       "      <td>27545037</td>\n",
       "      <td>12/16/2012</td>\n",
       "      <td>1/15/2013</td>\n",
       "      <td>75.06</td>\n",
       "      <td>No</td>\n",
       "      <td>1/12/2013</td>\n",
       "      <td>Paper</td>\n",
       "      <td>27</td>\n",
       "      <td>0</td>\n",
       "    </tr>\n",
       "    <tr>\n",
       "      <th>8</th>\n",
       "      <td>770</td>\n",
       "      <td>3831-FXWYK</td>\n",
       "      <td>3/8/2013</td>\n",
       "      <td>28049695</td>\n",
       "      <td>5/14/2012</td>\n",
       "      <td>6/13/2012</td>\n",
       "      <td>80.07</td>\n",
       "      <td>Yes</td>\n",
       "      <td>7/1/2012</td>\n",
       "      <td>Paper</td>\n",
       "      <td>48</td>\n",
       "      <td>18</td>\n",
       "    </tr>\n",
       "    <tr>\n",
       "      <th>9</th>\n",
       "      <td>897</td>\n",
       "      <td>7654-DOLHO</td>\n",
       "      <td>4/4/2012</td>\n",
       "      <td>32277701</td>\n",
       "      <td>7/1/2013</td>\n",
       "      <td>7/31/2013</td>\n",
       "      <td>48.33</td>\n",
       "      <td>No</td>\n",
       "      <td>7/26/2013</td>\n",
       "      <td>Electronic</td>\n",
       "      <td>25</td>\n",
       "      <td>0</td>\n",
       "    </tr>\n",
       "  </tbody>\n",
       "</table>\n",
       "</div>"
      ],
      "text/plain": [
       "   countryCode  customerID PaperlessDate  invoiceNumber InvoiceDate  \\\n",
       "0          391  0379-NEVHP      4/6/2013         611365    1/2/2013   \n",
       "1          406  8976-AMJEO      3/3/2012        7900770   1/26/2013   \n",
       "2          391  2820-XGXSB     1/26/2012        9231909    7/3/2013   \n",
       "3          406  9322-YCTQO      4/6/2012        9888306   2/10/2013   \n",
       "4          818  6627-ELFBK    11/26/2012       15752855  10/25/2012   \n",
       "5          818  5148-SYKLB     8/28/2013       18104516   1/27/2012   \n",
       "6          897  8690-EEBEO     12/5/2012       23864272   8/13/2013   \n",
       "7          770  4460-ZXNDN     6/27/2013       27545037  12/16/2012   \n",
       "8          770  3831-FXWYK      3/8/2013       28049695   5/14/2012   \n",
       "9          897  7654-DOLHO      4/4/2012       32277701    7/1/2013   \n",
       "\n",
       "      DueDate  InvoiceAmount Disputed SettledDate PaperlessBill  DaysToSettle  \\\n",
       "0    2/1/2013          55.94       No   1/15/2013         Paper            13   \n",
       "1   2/25/2013          61.74      Yes    3/3/2013    Electronic            36   \n",
       "2    8/2/2013          65.88       No    7/8/2013    Electronic             5   \n",
       "3   3/12/2013         105.92       No   3/17/2013    Electronic            35   \n",
       "4  11/24/2012          72.27      Yes  11/28/2012         Paper            34   \n",
       "5   2/26/2012          94.00      Yes   2/22/2012         Paper            26   \n",
       "6   9/12/2013          74.69       No    9/9/2013    Electronic            27   \n",
       "7   1/15/2013          75.06       No   1/12/2013         Paper            27   \n",
       "8   6/13/2012          80.07      Yes    7/1/2012         Paper            48   \n",
       "9   7/31/2013          48.33       No   7/26/2013    Electronic            25   \n",
       "\n",
       "   DaysLate  \n",
       "0         0  \n",
       "1         6  \n",
       "2         0  \n",
       "3         5  \n",
       "4         4  \n",
       "5         0  \n",
       "6         0  \n",
       "7         0  \n",
       "8        18  \n",
       "9         0  "
      ]
     },
     "execution_count": 11,
     "metadata": {},
     "output_type": "execute_result"
    }
   ],
   "source": [
    "dataset_path = './data/ar_dataset.csv'\n",
    "data = pd.read_csv(dataset_path)\n",
    "data.head(10)"
   ]
  },
  {
   "cell_type": "code",
   "execution_count": null,
   "id": "de319aef",
   "metadata": {},
   "outputs": [],
   "source": [
    "data.info()"
   ]
  },
  {
   "cell_type": "markdown",
   "id": "8973d6ae",
   "metadata": {},
   "source": [
    "### Описание полей датасета\n",
    "\n",
    "+ `countryCode`: Код страны клиента.\n",
    "+ `customerID`: Уникальный идентификатор клиента.\n",
    "+ `PaperlessDate`: Дата перехода на электронные счета.\n",
    "+ `invoiceNumber`: Номер счета.\n",
    "+ `InvoiceDate`: Дата создания счета.\n",
    "+ `DueDate`: Дата, к которой нужно было оплатить счет.\n",
    "+ `InvoiceAmount`: Сумма счета.\n",
    "+ `Disputed`: Указывает, был ли счет оспорен.\n",
    "+ `SettledDate`: Дата оплаты счета.\n",
    "+ `PaperlessBill`: Тип счета (бумажный / электронный).\n",
    "+ `DaysToSettle`: Количество дней, которое потребовалось для оплаты счета.\n",
    "+ `DaysLate`: Количество дней просрочки оплаты."
   ]
  },
  {
   "cell_type": "markdown",
   "id": "4045f91a",
   "metadata": {},
   "source": [
    "Преобразовываем столбцы с датой и временем в нужный нам формат"
   ]
  },
  {
   "cell_type": "code",
   "execution_count": null,
   "id": "768acf02",
   "metadata": {},
   "outputs": [],
   "source": [
    "data['InvoiceDate'] = pd.to_datetime(data['InvoiceDate'])\n",
    "data['DueDate'] = pd.to_datetime(data['DueDate'])\n",
    "data['SettledDate'] = pd.to_datetime(data['SettledDate'])"
   ]
  },
  {
   "cell_type": "markdown",
   "id": "3fcffe5f",
   "metadata": {},
   "source": [
    "Вычисляем DaysOverdue для проверки корректности DaysLate, учета пропусков и создания более гибких таргетов для анализа и моделей"
   ]
  },
  {
   "cell_type": "code",
   "execution_count": null,
   "id": "20228bb2",
   "metadata": {},
   "outputs": [],
   "source": [
    "data['DaysOverdue'] = (data['SettledDate'] - data['DueDate']).dt.days.clip(lower=0)"
   ]
  },
  {
   "cell_type": "markdown",
   "id": "33c45ce1",
   "metadata": {},
   "source": [
    "Сравниваем"
   ]
  },
  {
   "cell_type": "code",
   "execution_count": null,
   "id": "3e6f94e1",
   "metadata": {},
   "outputs": [],
   "source": [
    "data.loc[data['DaysOverdue'] != data['DaysLate'], ['DaysOverdue', 'DaysLate']]"
   ]
  },
  {
   "cell_type": "markdown",
   "id": "ce1ee72c",
   "metadata": {},
   "source": [
    "Так-как `DaysOverdue` и `DaysLate` корректны - продолжаем работу с `DaysLate`."
   ]
  },
  {
   "cell_type": "markdown",
   "id": "60bf7bff",
   "metadata": {},
   "source": [
    "У нас есть таргет для регрессии DaysLate, но ещё нужен бинарный таргет для классификации того, была ли компанией просрочена оплата ранее или нет. Таковым будет являться `OnTimePayment`."
   ]
  },
  {
   "cell_type": "code",
   "execution_count": null,
   "id": "1e2cfc87",
   "metadata": {},
   "outputs": [],
   "source": [
    "data['OnTimePayment'] = (data['DaysLate'] > 0).astype(int)\n",
    "data[['customerID','DaysLate','OnTimePayment']]"
   ]
  },
  {
   "cell_type": "markdown",
   "id": "ad6b66f3",
   "metadata": {},
   "source": [
    "Посмотрим на корреляцию между суммой счета, количеством дней оплаты счета и просрочкой оплаты"
   ]
  },
  {
   "cell_type": "code",
   "execution_count": null,
   "id": "1ea3b92f",
   "metadata": {},
   "outputs": [],
   "source": [
    "correlation = data.loc[:, ~data.columns.isin(['OnTimePayment', 'DaysOverdue'])].corr(numeric_only=True)\n",
    "plt.figure(figsize=(10, 6))\n",
    "sns.heatmap(correlation, annot=True, cmap='coolwarm', fmt='.2f')\n",
    "plt.title(\"Корреляционная матрица\")\n",
    "plt.show()"
   ]
  },
  {
   "cell_type": "markdown",
   "id": "8887ba4f",
   "metadata": {},
   "source": [
    "По тепловой карте можно понять, что:\n",
    " + `DaysToSettle` имеет высокую положительную корреляцию с `DaysLate` (0.82).\n",
    "     * Это ожидаемо, так как количество дней урегулирования связано с задержками.(т.е. нам не нужен этот признак для обучения модели)\n",
    " + `InvoiceAmount` имеет слабую положительную корреляцию с `DaysLate` (0.06)\n",
    "     * Это может указывать на слабое влияние размера счета на просрочку.\n",
    " + `countryCode` тоже имеет положительную корреляцию с `DaysLate` (0.09)\n",
    "     * Это может указывать на некоторое влияние страны компании на просрочку.\n",
    " + `InvoiceNumber` никак не коррелирует с `DaysLate` (0.00)"
   ]
  },
  {
   "cell_type": "markdown",
   "id": "c3be2bcd",
   "metadata": {},
   "source": [
    "Так как нам нужно найти такие признаки которые нам будут известны ещё до предоставления задолженности, то мы из данных признаков учтем только `InvoiceAmount` и `countryCode` и продолжим анализ."
   ]
  },
  {
   "cell_type": "markdown",
   "id": "03a7ec09",
   "metadata": {},
   "source": [
    "***Изначально доступные признаки:***\n",
    "+ `countryCode`\n",
    "+ `InvoiceAmount`\n",
    "+ `PaperlessBill`\n",
    "+ `Disputed`\n",
    "\n",
    "***Поздние признаки (целевые переменные):***\n",
    "\n",
    "+ `DaysToSettle`\n",
    "+ `DaysLate`\n",
    "+ `LatePayment`"
   ]
  },
  {
   "cell_type": "markdown",
   "id": "c65e1beb",
   "metadata": {},
   "source": [
    "## 1.1 Исследование числовых признаков"
   ]
  },
  {
   "cell_type": "markdown",
   "id": "b40d1329",
   "metadata": {},
   "source": [
    "Нужно анализировать распределение сумм счетов и понимать возможные выбросы, чтобы избежать от переобучения модели в будущем"
   ]
  },
  {
   "cell_type": "code",
   "execution_count": null,
   "id": "224ae4a2",
   "metadata": {},
   "outputs": [],
   "source": [
    "plt.figure(figsize=(10, 5))\n",
    "sns.histplot(data['InvoiceAmount'], bins=30, kde=True)\n",
    "plt.title(\"Распределение суммы счетов (InvoiceAmount)\")\n",
    "plt.xlabel(\"InvoiceAmount\")\n",
    "plt.ylabel(\"Частота\")\n",
    "plt.show()"
   ]
  },
  {
   "cell_type": "code",
   "execution_count": null,
   "id": "038bbc5c",
   "metadata": {},
   "outputs": [],
   "source": [
    "plt.figure(figsize=(10, 5))\n",
    "sns.boxplot(data['InvoiceAmount'])\n",
    "plt.title(\"Boxplot суммы счетов (InvoiceAmount)\")\n",
    "plt.show()"
   ]
  },
  {
   "cell_type": "markdown",
   "id": "a27a8db9",
   "metadata": {},
   "source": [
    "**Вывод:** Суммы счетов распределены в основном равномерно, но есть маленькое количество выбросов которые можно обработать логарифмируя значения сумм. "
   ]
  },
  {
   "cell_type": "markdown",
   "id": "261442cd",
   "metadata": {},
   "source": [
    "Теперь рассмотрим распределение просрочек платежа"
   ]
  },
  {
   "cell_type": "code",
   "execution_count": null,
   "id": "8396f604",
   "metadata": {},
   "outputs": [],
   "source": [
    "plt.figure(figsize=(10, 5))\n",
    "sns.histplot(data['DaysLate'], bins=30, kde=True)\n",
    "plt.title(\"Распределение количества дней просрочки (DaysLate)\")\n",
    "plt.xlabel(\"DaysLate\")\n",
    "plt.ylabel(\"Частота\")\n",
    "plt.show()"
   ]
  },
  {
   "cell_type": "markdown",
   "id": "676f0e19",
   "metadata": {},
   "source": [
    "**Вывод:** Большинство значений близко к 0, что подтверждает, что большинство платежей осуществляется вовремя. Есть длинный хвост для значительных задержек (10+ дней)."
   ]
  },
  {
   "cell_type": "markdown",
   "id": "6404567d",
   "metadata": {},
   "source": [
    "### **1.1. Исследование влияния категориальных признаков на просрочку**"
   ]
  },
  {
   "cell_type": "markdown",
   "id": "42ba6332",
   "metadata": {},
   "source": [
    "Влияние `PaperlessBill` на `DaysLate`"
   ]
  },
  {
   "cell_type": "code",
   "execution_count": null,
   "id": "64c1ef01",
   "metadata": {},
   "outputs": [],
   "source": [
    "plt.figure(figsize=(10, 5))\n",
    "sns.boxplot(x='PaperlessBill', y='DaysLate', data=data)\n",
    "plt.title(\"PaperlessBill vs DaysLate\")\n",
    "plt.xlabel(\"Тип счета (PaperlessBill)\")\n",
    "plt.ylabel(\"Количество дней просрочки (DaysLate)\")\n",
    "plt.show()"
   ]
  },
  {
   "cell_type": "code",
   "execution_count": null,
   "id": "551c2d93",
   "metadata": {},
   "outputs": [],
   "source": [
    "plt.figure(figsize=(10, 6))\n",
    "sns.histplot(data=data, x='DaysLate', hue='PaperlessBill', bins=20, kde=True, alpha=0.6)\n",
    "plt.title(\"Гистограмма просрочки (DaysLate) по PaperlessBill\")\n",
    "plt.xlabel(\"DaysLate\")\n",
    "plt.ylabel(\"Количество\")\n",
    "plt.show()"
   ]
  },
  {
   "cell_type": "markdown",
   "id": "744d8cc6",
   "metadata": {},
   "source": [
    "**Вывод:** Электронные счета `Electronic` имеют меньшую вероятность задержки. Основная масса счетов имеет `DaysLate` близким к нулю.\n",
    "Бумажные счета `Paper` демонстрируют большее количество задержек по сравнению с электронными счетами, что заметно по более длинному хвосту в распределении."
   ]
  },
  {
   "cell_type": "markdown",
   "id": "035817f5",
   "metadata": {},
   "source": [
    "Влияние `Disputed` на `DaysLate`"
   ]
  },
  {
   "cell_type": "code",
   "execution_count": null,
   "id": "41160a7f",
   "metadata": {},
   "outputs": [],
   "source": [
    "plt.figure(figsize=(10, 5))\n",
    "sns.boxplot(x='Disputed', y='DaysLate', data=data)\n",
    "plt.title(\"PaperlessBill vs DaysLate BoxPlot\")\n",
    "plt.xlabel(\"Тип счета (PaperlessBill)\")\n",
    "plt.ylabel(\"Количество дней просрочки (DaysLate)\")\n",
    "plt.show()\n",
    "\n",
    "plt.figure(figsize=(10, 6))\n",
    "sns.histplot(data=data, x='DaysLate', hue='Disputed', bins=20, kde=True, alpha=0.6)\n",
    "plt.title(\"Disputed vs DaysLate Histogramm\")\n",
    "plt.xlabel(\"DaysLate\")\n",
    "plt.ylabel(\"Количество\")\n",
    "plt.show()"
   ]
  },
  {
   "cell_type": "markdown",
   "id": "d121088b",
   "metadata": {},
   "source": [
    "**Вывод:** Оспоренные счета имеют больше вероятность просрочки платежа, чем неоспоренные"
   ]
  },
  {
   "cell_type": "markdown",
   "id": "526599b2",
   "metadata": {},
   "source": [
    "### **1.2. Коррекция датасета для обучения модели**"
   ]
  },
  {
   "cell_type": "markdown",
   "id": "10e9aff3",
   "metadata": {},
   "source": [
    "Прологорифмуем все `InvoiceAmount` для обработки выбросов"
   ]
  },
  {
   "cell_type": "code",
   "execution_count": null,
   "id": "455c9b15",
   "metadata": {},
   "outputs": [],
   "source": [
    "data['LogInvoiceAmount'] = np.log1p(data['InvoiceAmount'])\n",
    "\n",
    "plt.figure(figsize=(10, 6))\n",
    "sns.histplot(data['LogInvoiceAmount'], bins=20, kde=True, color='orange', alpha=0.7)\n",
    "plt.title(\"Гистограмма логарифма суммы счетов (LogInvoiceAmount)\")\n",
    "plt.xlabel(\"LogInvoiceAmount\")\n",
    "plt.ylabel(\"Частота\")\n",
    "plt.show()"
   ]
  },
  {
   "cell_type": "code",
   "execution_count": null,
   "id": "36d53a1c",
   "metadata": {},
   "outputs": [],
   "source": [
    "plt.figure(figsize=(10, 10))\n",
    "sns.boxplot(data['LogInvoiceAmount'])\n",
    "plt.title(\"Boxplot суммы логарифмов счетов (LogInvoiceAmount)\")\n",
    "plt.show()"
   ]
  },
  {
   "cell_type": "markdown",
   "id": "9852030c",
   "metadata": {},
   "source": [
    "После логарифмирования нет слишком больших счетов, которые бы могли сильно повлиять на обучения модели."
   ]
  },
  {
   "cell_type": "markdown",
   "id": "a48e2b21",
   "metadata": {},
   "source": [
    "Далее превратим категориальные признаки в числовые используя `one-hot encoding`, чтобы модель сумела на их основе обучиться."
   ]
  },
  {
   "cell_type": "code",
   "execution_count": null,
   "id": "d40971e8",
   "metadata": {},
   "outputs": [],
   "source": [
    "data_encoded = pd.get_dummies(data[['countryCode', 'LogInvoiceAmount','DaysLate', 'OnTimePayment','PaperlessBill','Disputed']], drop_first=True)\n",
    "data_encoded"
   ]
  },
  {
   "cell_type": "markdown",
   "id": "1d8e4f03",
   "metadata": {},
   "source": [
    "## **2. Обучение модели**"
   ]
  },
  {
   "cell_type": "markdown",
   "id": "1582a2fc",
   "metadata": {},
   "source": [
    "Разделение на обучающие и тестовые выборки"
   ]
  },
  {
   "cell_type": "code",
   "execution_count": null,
   "id": "35826b7d",
   "metadata": {},
   "outputs": [],
   "source": [
    "X = data_encoded.drop(columns=['DaysLate', 'OnTimePayment'])\n",
    "y = data_encoded['OnTimePayment'] \n",
    "y_reg = data_encoded[['DaysLate']]\n",
    "\n",
    "X_train, X_test, y_train, y_test = train_test_split(X, y, test_size=0.2, random_state=42)\n",
    "X_train_reg, X_test_reg, y_train_reg, y_test_reg = train_test_split(X, y_reg, test_size=0.2, random_state=42)"
   ]
  },
  {
   "cell_type": "markdown",
   "id": "4a29f8da",
   "metadata": {},
   "source": [
    "Для данной задачин было решено использовать 3 алгоритма и сравнить результаты."
   ]
  },
  {
   "cell_type": "markdown",
   "id": "84fe8fa6",
   "metadata": {},
   "source": [
    "## **2.1. KNN**\n",
    "Для данной задачи классификации было решено использовать алгоритм KNN (K-Nearest-Neighbours), так-как это простой, но мощный алгоритм, который может хорошо работать с небольшими или умеренными наборами данных. Он классифицирует объект на основе метрики близости к соседним объектам. "
   ]
  },
  {
   "cell_type": "markdown",
   "id": "7eb41160",
   "metadata": {},
   "source": [
    "#### Нормализация данных\n",
    "Нормализация выравнивает масштабы данных, что важно для KNN, так как он основан на расстояниях."
   ]
  },
  {
   "cell_type": "code",
   "execution_count": null,
   "id": "e918fc33",
   "metadata": {},
   "outputs": [],
   "source": [
    "scaler = StandardScaler()\n",
    "X_train_scaled = scaler.fit_transform(X_train)\n",
    "X_test_scaled = scaler.transform(X_test)\n",
    "\n",
    "knn_model = KNeighborsClassifier(n_neighbors=5)\n",
    "knn_model.fit(X_train_scaled, y_train)\n",
    "\n",
    "y_pred = knn_model.predict(X_test_scaled)"
   ]
  },
  {
   "cell_type": "markdown",
   "id": "c17af43b",
   "metadata": {},
   "source": [
    "Оценка качества"
   ]
  },
  {
   "cell_type": "code",
   "execution_count": null,
   "id": "787dff1a",
   "metadata": {},
   "outputs": [],
   "source": [
    "accuracy_knn = accuracy_score(y_test, y_pred)\n",
    "print(f\"Точность модели KNN: {accuracy_knn:.2f}\")\n",
    "\n",
    "report = classification_report(y_test, y_pred)\n",
    "print(\"Отчет классификации:\")\n",
    "print(report)"
   ]
  },
  {
   "cell_type": "markdown",
   "id": "a36f8994",
   "metadata": {},
   "source": [
    "Для улучшения модели попытаемся выбрать оптимальное количество соседей"
   ]
  },
  {
   "cell_type": "code",
   "execution_count": null,
   "id": "b183c4e4",
   "metadata": {},
   "outputs": [],
   "source": [
    "param_grid = {'n_neighbors': range(1, 50)}\n",
    "grid_search = GridSearchCV(KNeighborsClassifier(), param_grid, cv=5, scoring='accuracy')\n",
    "grid_search.fit(X_train_scaled, y_train)\n",
    "\n",
    "best_k = grid_search.best_params_['n_neighbors']\n",
    "print(f\"Лучшее значение k: {best_k}\")\n",
    "\n",
    "best_knn_accuracy = grid_search.best_score_\n",
    "print(f\"Точность с оптимальным k: {best_knn_accuracy:.2f}\")"
   ]
  },
  {
   "cell_type": "markdown",
   "id": "6565c859",
   "metadata": {},
   "source": [
    "**Вывод:** С помощью алгоритма KNN мы смогли достичь точности в 73%."
   ]
  },
  {
   "cell_type": "markdown",
   "id": "47634272",
   "metadata": {},
   "source": [
    "## **2.2. RandomForest**\n",
    "\n",
    "Как 2-й подход для решения данной задачи был выбран RandomForest, так-как этот подход для классификации или регрессии является хорошим выбором в ряде случаев из-за его характеристик.\n",
    "С помощью нее мы не только решили не только предугадать будет ли задолженность просрочена или нет, но еще и предсказать на сколько дней."
   ]
  },
  {
   "cell_type": "markdown",
   "id": "d9427243",
   "metadata": {},
   "source": [
    "### **2.2.1. RandomForest Classifier**"
   ]
  },
  {
   "cell_type": "code",
   "execution_count": null,
   "id": "9c0ab388",
   "metadata": {},
   "outputs": [],
   "source": [
    "rf_classifier = RandomForestClassifier(random_state=42)\n",
    "rf_classifier.fit(X_train, y_train)\n",
    "y_pred_reg = rf_classifier.predict(X_test)\n",
    "\n",
    "accuracy_rf_class = accuracy_score(y_test, y_pred)\n",
    "print(f\"Точность модели: {accuracy_rf_class:.2f}\")\n",
    "\n",
    "report = classification_report(y_test, y_pred)\n",
    "print(\"Отчет классификации:\")\n",
    "print(report)"
   ]
  },
  {
   "cell_type": "code",
   "execution_count": null,
   "id": "b4de8a24",
   "metadata": {},
   "outputs": [],
   "source": [
    "feature_importances = pd.Series(rf_classifier.feature_importances_, index=X.columns)\n",
    "feature_importances.sort_values(ascending=False, inplace=True)\n",
    "\n",
    "# Визуализация важности признаков\n",
    "plt.figure(figsize=(10, 6))\n",
    "feature_importances.plot(kind='bar')\n",
    "plt.title(\"Важность признаков\")\n",
    "plt.ylabel(\"Важность\")\n",
    "plt.show()"
   ]
  },
  {
   "cell_type": "markdown",
   "id": "a98b4b37",
   "metadata": {},
   "source": [
    "**Вывод:** \n",
    "+ Общий обзор предсказаний\n",
    "    * 74% объектов, предсказанных как \"оплачено вовремя\", действительно принадлежат этому классу.\n",
    "    * 83% всех объектов класса \"оплачено вовремя\" модель правильно классифицировала.\n",
    "    * 60% предсказанных \"с просрочкой\" действительно имеют задержку.\n",
    "    * Модель нашла только 47% всех объектов с задержкой.\n",
    "\n",
    "+ Важность признаков в `Random Forest Regressor`\n",
    "  - Сумма счета - самый важный признак с важностью около 0.65\n",
    "  - Оспоренные счета также значительно влияют на задержки платежей ~ 0.2"
   ]
  },
  {
   "cell_type": "markdown",
   "id": "1e911ca2",
   "metadata": {},
   "source": [
    "### **2.2.2. RandomForest Regressor**"
   ]
  },
  {
   "cell_type": "code",
   "execution_count": null,
   "id": "157a5d1b",
   "metadata": {},
   "outputs": [],
   "source": [
    "rf_regressor = RandomForestRegressor(random_state=42, n_estimators=100)\n",
    "rf_regressor.fit(X_train_reg, y_train_reg)\n",
    "y_pred = rf_regressor.predict(X_test)\n",
    "\n",
    "mse = mean_squared_error(y_test, y_pred)  # Среднеквадратичная ошибка\n",
    "mae = mean_absolute_error(y_test, y_pred)  # Средняя абсолютная ошибка\n",
    "r2 = r2_score(y_test, y_pred)  # Коэффициент детерминации R^2\n",
    "\n",
    "# Вывод метрик\n",
    "print(f\"Среднеквадратичная ошибка (MSE): {mse:.2f}\")\n",
    "print(f\"Средняя абсолютная ошибка (MAE): {mae:.2f}\")\n",
    "print(f\"R^2 (коэффициент детерминации): {r2:.2f}\")"
   ]
  },
  {
   "cell_type": "code",
   "execution_count": null,
   "id": "24f4927d",
   "metadata": {},
   "outputs": [],
   "source": [
    "feature_importances = pd.Series(rf_regressor.feature_importances_, index=X.columns)\n",
    "feature_importances.sort_values(ascending=False, inplace=True)\n",
    "\n",
    "plt.figure(figsize=(5, 4))\n",
    "feature_importances.plot(kind='bar')\n",
    "plt.title(\"Важность признаков в Random Forest Regressor\")\n",
    "plt.ylabel(\"Важность\")\n",
    "plt.show()\n"
   ]
  },
  {
   "cell_type": "markdown",
   "id": "f9e5013b",
   "metadata": {},
   "source": [
    "**Вывод:**\n",
    "+ Метрики модели `Random Forest Regressor`:\n",
    "  * Среднеквадратичная ошибка `MSE`: 26.99\n",
    "\n",
    "    - Это означает, что в среднем квадрат отклонения предсказанных значений `DaysLate` от фактических составляет около 27.\n",
    "    - `MSE` чувствительна к выбросам: большие ошибки сильнее влияют на итоговую метрику.\n",
    "  * Средняя абсолютная ошибка `MAE`: 3.14\n",
    "\n",
    "    - Модель в среднем ошибается примерно на 3.14 дня, что является более интерпретируемой метрикой, чем `MSE`.\n",
    "    - Это значение указывает на относительное качество модели.\n",
    "  * Коэффициент детерминации `R²`: -117.59\n",
    "\n",
    "    - Отрицательное значение `R²` говорит о том, что модель работает хуже, чем простое предсказание среднего значения. Это указывает на проблемы в обучении модели или неподходящие данные.\n",
    "\n",
    "+ Важность признаков в `Random Forest Regressor`\n",
    "  - Сумма счета - самый важный признак с важностью около 0.65\n",
    "  - Оспоренные счета также значительно влияют на задержки платежей ~0.2"
   ]
  },
  {
   "cell_type": "markdown",
   "id": "cb663e87",
   "metadata": {},
   "source": [
    "### Сравнение точности  2-х моделей классификации"
   ]
  },
  {
   "cell_type": "code",
   "execution_count": null,
   "id": "3c80a908",
   "metadata": {},
   "outputs": [],
   "source": [
    "models = ['Random Forest', 'KNN']\n",
    "accuracies = [accuracy_rf_class, best_knn_accuracy]  \n",
    "\n",
    "plt.figure(figsize=(5, 5))\n",
    "plt.bar(models, accuracies, color=['blue', 'orange', 'green'])\n",
    "plt.title('Сравнение Accuracy между моделями')\n",
    "plt.ylabel('Accuracy')\n",
    "plt.ylim(0, 1)\n",
    "plt.show()"
   ]
  },
  {
   "cell_type": "markdown",
   "id": "3b2cd783",
   "metadata": {},
   "source": [
    "###  ROC-кривая для сравнения моделей классификации\n",
    "ROC-кривая показывает, насколько хорошо модель различает классы. Она строится на основе метрик True Positive Rate (TPR) и False Positive Rate (FPR).\n"
   ]
  },
  {
   "cell_type": "code",
   "execution_count": null,
   "id": "3c89cc05",
   "metadata": {},
   "outputs": [],
   "source": [
    "plt.figure(figsize=(8, 6))\n",
    "\n",
    "# Random Forest\n",
    "fpr_rf, tpr_rf, _ = roc_curve(y_test, rf_classifier.predict_proba(X_test)[:, 1])\n",
    "auc_rf = roc_auc_score(y_test, rf_classifier.predict_proba(X_test)[:, 1])\n",
    "plt.plot(fpr_rf, tpr_rf, label=f'Random Forest (AUC = {auc_rf:.2f})', color='blue')\n",
    "\n",
    "# KNN\n",
    "fpr_knn, tpr_knn, _ = roc_curve(y_test, knn_model.predict_proba(X_test_scaled)[:, 1])\n",
    "auc_knn = roc_auc_score(y_test, knn_model.predict_proba(X_test_scaled)[:, 1])\n",
    "plt.plot(fpr_knn, tpr_knn, label=f'KNN (AUC = {auc_knn:.2f})', color='orange')\n",
    "\n",
    "# линия слу\n",
    "plt.plot([0, 1], [0, 1], 'k--', label='Random')\n",
    "\n",
    "plt.title('Сравнение ROC-кривых между моделями')\n",
    "plt.xlabel('False Positive Rate')\n",
    "plt.ylabel('True Positive Rate')\n",
    "plt.legend()\n",
    "plt.grid()\n",
    "plt.show()"
   ]
  },
  {
   "cell_type": "markdown",
   "id": "4bc1298d",
   "metadata": {},
   "source": [
    "**Вывод:** На основе ROC-кривых видно, что модели (Random Forest и KNN) имеют схожую производительность: AUC для KNN составляет 0.69, а для Random Forest — 0.68. Хотя KNN показывает немного лучшее качество, разница минимальна, и обе модели работают лишь чуть лучше случайного предсказания. "
   ]
  },
  {
   "cell_type": "markdown",
   "id": "6645718d",
   "metadata": {},
   "source": [
    "## **2.3. Binary Classification**"
   ]
  },
  {
   "cell_type": "markdown",
   "id": "2841e394",
   "metadata": {},
   "source": [
    "Третьим методом будет выступать бинарная классификация, для которой было принято решение более тщательно провести предварительную обработку данных."
   ]
  },
  {
   "cell_type": "code",
   "execution_count": 3,
   "id": "bed75271",
   "metadata": {},
   "outputs": [],
   "source": [
    "data = pd.read_csv('./data/ar_dataset.csv')"
   ]
  },
  {
   "cell_type": "markdown",
   "id": "0d28e588",
   "metadata": {},
   "source": [
    "Параметр `DaysLate` заменяем бинарным значением 1, если есть опоздание, и 0, если его нет."
   ]
  },
  {
   "cell_type": "code",
   "execution_count": 4,
   "id": "d6fd7a36",
   "metadata": {},
   "outputs": [],
   "source": [
    "data['DaysLate'] = data['DaysLate'].apply(lambda x: 1 if x > 0 else x)"
   ]
  },
  {
   "cell_type": "markdown",
   "id": "b0f2f929",
   "metadata": {},
   "source": [
    "Переменную `DaysToSettle` было решено убрать, так-как приоритетным является предугадание того, будет ли опоздание, а не насколько."
   ]
  },
  {
   "cell_type": "code",
   "execution_count": 5,
   "id": "d13982a9",
   "metadata": {},
   "outputs": [
    {
     "data": {
      "text/html": [
       "<div>\n",
       "<style scoped>\n",
       "    .dataframe tbody tr th:only-of-type {\n",
       "        vertical-align: middle;\n",
       "    }\n",
       "\n",
       "    .dataframe tbody tr th {\n",
       "        vertical-align: top;\n",
       "    }\n",
       "\n",
       "    .dataframe thead th {\n",
       "        text-align: right;\n",
       "    }\n",
       "</style>\n",
       "<table border=\"1\" class=\"dataframe\">\n",
       "  <thead>\n",
       "    <tr style=\"text-align: right;\">\n",
       "      <th></th>\n",
       "      <th>countryCode</th>\n",
       "      <th>customerID</th>\n",
       "      <th>PaperlessDate</th>\n",
       "      <th>invoiceNumber</th>\n",
       "      <th>InvoiceDate</th>\n",
       "      <th>DueDate</th>\n",
       "      <th>InvoiceAmount</th>\n",
       "      <th>Disputed</th>\n",
       "      <th>SettledDate</th>\n",
       "      <th>PaperlessBill</th>\n",
       "      <th>DaysLate</th>\n",
       "    </tr>\n",
       "  </thead>\n",
       "  <tbody>\n",
       "    <tr>\n",
       "      <th>0</th>\n",
       "      <td>391</td>\n",
       "      <td>0379-NEVHP</td>\n",
       "      <td>4/6/2013</td>\n",
       "      <td>611365</td>\n",
       "      <td>1/2/2013</td>\n",
       "      <td>2/1/2013</td>\n",
       "      <td>55.94</td>\n",
       "      <td>No</td>\n",
       "      <td>1/15/2013</td>\n",
       "      <td>Paper</td>\n",
       "      <td>0</td>\n",
       "    </tr>\n",
       "    <tr>\n",
       "      <th>1</th>\n",
       "      <td>406</td>\n",
       "      <td>8976-AMJEO</td>\n",
       "      <td>3/3/2012</td>\n",
       "      <td>7900770</td>\n",
       "      <td>1/26/2013</td>\n",
       "      <td>2/25/2013</td>\n",
       "      <td>61.74</td>\n",
       "      <td>Yes</td>\n",
       "      <td>3/3/2013</td>\n",
       "      <td>Electronic</td>\n",
       "      <td>1</td>\n",
       "    </tr>\n",
       "    <tr>\n",
       "      <th>2</th>\n",
       "      <td>391</td>\n",
       "      <td>2820-XGXSB</td>\n",
       "      <td>1/26/2012</td>\n",
       "      <td>9231909</td>\n",
       "      <td>7/3/2013</td>\n",
       "      <td>8/2/2013</td>\n",
       "      <td>65.88</td>\n",
       "      <td>No</td>\n",
       "      <td>7/8/2013</td>\n",
       "      <td>Electronic</td>\n",
       "      <td>0</td>\n",
       "    </tr>\n",
       "    <tr>\n",
       "      <th>3</th>\n",
       "      <td>406</td>\n",
       "      <td>9322-YCTQO</td>\n",
       "      <td>4/6/2012</td>\n",
       "      <td>9888306</td>\n",
       "      <td>2/10/2013</td>\n",
       "      <td>3/12/2013</td>\n",
       "      <td>105.92</td>\n",
       "      <td>No</td>\n",
       "      <td>3/17/2013</td>\n",
       "      <td>Electronic</td>\n",
       "      <td>1</td>\n",
       "    </tr>\n",
       "    <tr>\n",
       "      <th>4</th>\n",
       "      <td>818</td>\n",
       "      <td>6627-ELFBK</td>\n",
       "      <td>11/26/2012</td>\n",
       "      <td>15752855</td>\n",
       "      <td>10/25/2012</td>\n",
       "      <td>11/24/2012</td>\n",
       "      <td>72.27</td>\n",
       "      <td>Yes</td>\n",
       "      <td>11/28/2012</td>\n",
       "      <td>Paper</td>\n",
       "      <td>1</td>\n",
       "    </tr>\n",
       "    <tr>\n",
       "      <th>...</th>\n",
       "      <td>...</td>\n",
       "      <td>...</td>\n",
       "      <td>...</td>\n",
       "      <td>...</td>\n",
       "      <td>...</td>\n",
       "      <td>...</td>\n",
       "      <td>...</td>\n",
       "      <td>...</td>\n",
       "      <td>...</td>\n",
       "      <td>...</td>\n",
       "      <td>...</td>\n",
       "    </tr>\n",
       "    <tr>\n",
       "      <th>2461</th>\n",
       "      <td>391</td>\n",
       "      <td>6708-DPYTF</td>\n",
       "      <td>8/2/2012</td>\n",
       "      <td>9982796720</td>\n",
       "      <td>10/18/2013</td>\n",
       "      <td>11/17/2013</td>\n",
       "      <td>79.61</td>\n",
       "      <td>No</td>\n",
       "      <td>12/1/2013</td>\n",
       "      <td>Electronic</td>\n",
       "      <td>1</td>\n",
       "    </tr>\n",
       "    <tr>\n",
       "      <th>2462</th>\n",
       "      <td>391</td>\n",
       "      <td>9841-XLGBV</td>\n",
       "      <td>1/3/2013</td>\n",
       "      <td>9983237240</td>\n",
       "      <td>9/19/2012</td>\n",
       "      <td>10/19/2012</td>\n",
       "      <td>38.25</td>\n",
       "      <td>No</td>\n",
       "      <td>10/13/2012</td>\n",
       "      <td>Paper</td>\n",
       "      <td>0</td>\n",
       "    </tr>\n",
       "    <tr>\n",
       "      <th>2463</th>\n",
       "      <td>770</td>\n",
       "      <td>7856-ODQFO</td>\n",
       "      <td>8/5/2012</td>\n",
       "      <td>9986249860</td>\n",
       "      <td>7/2/2012</td>\n",
       "      <td>8/1/2012</td>\n",
       "      <td>67.59</td>\n",
       "      <td>No</td>\n",
       "      <td>7/27/2012</td>\n",
       "      <td>Paper</td>\n",
       "      <td>0</td>\n",
       "    </tr>\n",
       "    <tr>\n",
       "      <th>2464</th>\n",
       "      <td>770</td>\n",
       "      <td>7050-KQLDO</td>\n",
       "      <td>9/29/2012</td>\n",
       "      <td>9989225541</td>\n",
       "      <td>4/27/2012</td>\n",
       "      <td>5/27/2012</td>\n",
       "      <td>53.16</td>\n",
       "      <td>No</td>\n",
       "      <td>5/18/2012</td>\n",
       "      <td>Paper</td>\n",
       "      <td>0</td>\n",
       "    </tr>\n",
       "    <tr>\n",
       "      <th>2465</th>\n",
       "      <td>406</td>\n",
       "      <td>9758-AIEIK</td>\n",
       "      <td>4/23/2012</td>\n",
       "      <td>9990243864</td>\n",
       "      <td>7/4/2013</td>\n",
       "      <td>8/3/2013</td>\n",
       "      <td>68.66</td>\n",
       "      <td>No</td>\n",
       "      <td>7/18/2013</td>\n",
       "      <td>Electronic</td>\n",
       "      <td>0</td>\n",
       "    </tr>\n",
       "  </tbody>\n",
       "</table>\n",
       "<p>2466 rows × 11 columns</p>\n",
       "</div>"
      ],
      "text/plain": [
       "      countryCode  customerID PaperlessDate  invoiceNumber InvoiceDate  \\\n",
       "0             391  0379-NEVHP      4/6/2013         611365    1/2/2013   \n",
       "1             406  8976-AMJEO      3/3/2012        7900770   1/26/2013   \n",
       "2             391  2820-XGXSB     1/26/2012        9231909    7/3/2013   \n",
       "3             406  9322-YCTQO      4/6/2012        9888306   2/10/2013   \n",
       "4             818  6627-ELFBK    11/26/2012       15752855  10/25/2012   \n",
       "...           ...         ...           ...            ...         ...   \n",
       "2461          391  6708-DPYTF      8/2/2012     9982796720  10/18/2013   \n",
       "2462          391  9841-XLGBV      1/3/2013     9983237240   9/19/2012   \n",
       "2463          770  7856-ODQFO      8/5/2012     9986249860    7/2/2012   \n",
       "2464          770  7050-KQLDO     9/29/2012     9989225541   4/27/2012   \n",
       "2465          406  9758-AIEIK     4/23/2012     9990243864    7/4/2013   \n",
       "\n",
       "         DueDate  InvoiceAmount Disputed SettledDate PaperlessBill  DaysLate  \n",
       "0       2/1/2013          55.94       No   1/15/2013         Paper         0  \n",
       "1      2/25/2013          61.74      Yes    3/3/2013    Electronic         1  \n",
       "2       8/2/2013          65.88       No    7/8/2013    Electronic         0  \n",
       "3      3/12/2013         105.92       No   3/17/2013    Electronic         1  \n",
       "4     11/24/2012          72.27      Yes  11/28/2012         Paper         1  \n",
       "...          ...            ...      ...         ...           ...       ...  \n",
       "2461  11/17/2013          79.61       No   12/1/2013    Electronic         1  \n",
       "2462  10/19/2012          38.25       No  10/13/2012         Paper         0  \n",
       "2463    8/1/2012          67.59       No   7/27/2012         Paper         0  \n",
       "2464   5/27/2012          53.16       No   5/18/2012         Paper         0  \n",
       "2465    8/3/2013          68.66       No   7/18/2013    Electronic         0  \n",
       "\n",
       "[2466 rows x 11 columns]"
      ]
     },
     "execution_count": 5,
     "metadata": {},
     "output_type": "execute_result"
    }
   ],
   "source": [
    "data = data.drop(columns=['DaysToSettle'])\n",
    "data"
   ]
  },
  {
   "cell_type": "markdown",
   "id": "9363839d",
   "metadata": {},
   "source": [
    "Далее, опять же для улучшения точности модели было решено разделить на отдельные столбцы все даты в таблице. Для этого реализована функция `split_date_column`."
   ]
  },
  {
   "cell_type": "code",
   "execution_count": 6,
   "id": "c53d9070",
   "metadata": {},
   "outputs": [],
   "source": [
    "def split_date_column(data, date_column):\n",
    "    data[date_column] = pd.to_datetime(data[date_column], format='%m/%d/%Y')\n",
    "\n",
    "    base_name = date_column[:-4]  # Удаляем суффикс \"Date\"\n",
    "    new_columns = {\n",
    "        f'{base_name}Day': data[date_column].dt.day,\n",
    "        f'{base_name}Month': data[date_column].dt.month,\n",
    "        f'{base_name}Year': data[date_column].dt.year\n",
    "    }\n",
    "\n",
    "    original_columns = data.columns.tolist()\n",
    "\n",
    "    date_col_index = original_columns.index(date_column)\n",
    "\n",
    "    data.drop(columns=[date_column], inplace=True)\n",
    "\n",
    "    # Вставляем обратно в правильном порядке\n",
    "    for i, (col_name, col_data) in enumerate(new_columns.items()):\n",
    "        data.insert(date_col_index + i, col_name, col_data)\n",
    "\n",
    "    return data"
   ]
  },
  {
   "cell_type": "markdown",
   "id": "9bb13118",
   "metadata": {},
   "source": [
    "Применяем функцию."
   ]
  },
  {
   "cell_type": "code",
   "execution_count": 7,
   "id": "3740c061",
   "metadata": {},
   "outputs": [
    {
     "data": {
      "text/html": [
       "<div>\n",
       "<style scoped>\n",
       "    .dataframe tbody tr th:only-of-type {\n",
       "        vertical-align: middle;\n",
       "    }\n",
       "\n",
       "    .dataframe tbody tr th {\n",
       "        vertical-align: top;\n",
       "    }\n",
       "\n",
       "    .dataframe thead th {\n",
       "        text-align: right;\n",
       "    }\n",
       "</style>\n",
       "<table border=\"1\" class=\"dataframe\">\n",
       "  <thead>\n",
       "    <tr style=\"text-align: right;\">\n",
       "      <th></th>\n",
       "      <th>countryCode</th>\n",
       "      <th>customerID</th>\n",
       "      <th>PaperlessDay</th>\n",
       "      <th>PaperlessMonth</th>\n",
       "      <th>PaperlessYear</th>\n",
       "      <th>invoiceNumber</th>\n",
       "      <th>InvoiceDay</th>\n",
       "      <th>InvoiceMonth</th>\n",
       "      <th>InvoiceYear</th>\n",
       "      <th>DueDay</th>\n",
       "      <th>DueMonth</th>\n",
       "      <th>DueYear</th>\n",
       "      <th>InvoiceAmount</th>\n",
       "      <th>Disputed</th>\n",
       "      <th>SettledDay</th>\n",
       "      <th>SettledMonth</th>\n",
       "      <th>SettledYear</th>\n",
       "      <th>PaperlessBill</th>\n",
       "      <th>DaysLate</th>\n",
       "    </tr>\n",
       "  </thead>\n",
       "  <tbody>\n",
       "    <tr>\n",
       "      <th>0</th>\n",
       "      <td>391</td>\n",
       "      <td>0379-NEVHP</td>\n",
       "      <td>6</td>\n",
       "      <td>4</td>\n",
       "      <td>2013</td>\n",
       "      <td>611365</td>\n",
       "      <td>2</td>\n",
       "      <td>1</td>\n",
       "      <td>2013</td>\n",
       "      <td>1</td>\n",
       "      <td>2</td>\n",
       "      <td>2013</td>\n",
       "      <td>55.94</td>\n",
       "      <td>No</td>\n",
       "      <td>15</td>\n",
       "      <td>1</td>\n",
       "      <td>2013</td>\n",
       "      <td>Paper</td>\n",
       "      <td>0</td>\n",
       "    </tr>\n",
       "    <tr>\n",
       "      <th>1</th>\n",
       "      <td>406</td>\n",
       "      <td>8976-AMJEO</td>\n",
       "      <td>3</td>\n",
       "      <td>3</td>\n",
       "      <td>2012</td>\n",
       "      <td>7900770</td>\n",
       "      <td>26</td>\n",
       "      <td>1</td>\n",
       "      <td>2013</td>\n",
       "      <td>25</td>\n",
       "      <td>2</td>\n",
       "      <td>2013</td>\n",
       "      <td>61.74</td>\n",
       "      <td>Yes</td>\n",
       "      <td>3</td>\n",
       "      <td>3</td>\n",
       "      <td>2013</td>\n",
       "      <td>Electronic</td>\n",
       "      <td>1</td>\n",
       "    </tr>\n",
       "    <tr>\n",
       "      <th>2</th>\n",
       "      <td>391</td>\n",
       "      <td>2820-XGXSB</td>\n",
       "      <td>26</td>\n",
       "      <td>1</td>\n",
       "      <td>2012</td>\n",
       "      <td>9231909</td>\n",
       "      <td>3</td>\n",
       "      <td>7</td>\n",
       "      <td>2013</td>\n",
       "      <td>2</td>\n",
       "      <td>8</td>\n",
       "      <td>2013</td>\n",
       "      <td>65.88</td>\n",
       "      <td>No</td>\n",
       "      <td>8</td>\n",
       "      <td>7</td>\n",
       "      <td>2013</td>\n",
       "      <td>Electronic</td>\n",
       "      <td>0</td>\n",
       "    </tr>\n",
       "    <tr>\n",
       "      <th>3</th>\n",
       "      <td>406</td>\n",
       "      <td>9322-YCTQO</td>\n",
       "      <td>6</td>\n",
       "      <td>4</td>\n",
       "      <td>2012</td>\n",
       "      <td>9888306</td>\n",
       "      <td>10</td>\n",
       "      <td>2</td>\n",
       "      <td>2013</td>\n",
       "      <td>12</td>\n",
       "      <td>3</td>\n",
       "      <td>2013</td>\n",
       "      <td>105.92</td>\n",
       "      <td>No</td>\n",
       "      <td>17</td>\n",
       "      <td>3</td>\n",
       "      <td>2013</td>\n",
       "      <td>Electronic</td>\n",
       "      <td>1</td>\n",
       "    </tr>\n",
       "    <tr>\n",
       "      <th>4</th>\n",
       "      <td>818</td>\n",
       "      <td>6627-ELFBK</td>\n",
       "      <td>26</td>\n",
       "      <td>11</td>\n",
       "      <td>2012</td>\n",
       "      <td>15752855</td>\n",
       "      <td>25</td>\n",
       "      <td>10</td>\n",
       "      <td>2012</td>\n",
       "      <td>24</td>\n",
       "      <td>11</td>\n",
       "      <td>2012</td>\n",
       "      <td>72.27</td>\n",
       "      <td>Yes</td>\n",
       "      <td>28</td>\n",
       "      <td>11</td>\n",
       "      <td>2012</td>\n",
       "      <td>Paper</td>\n",
       "      <td>1</td>\n",
       "    </tr>\n",
       "    <tr>\n",
       "      <th>...</th>\n",
       "      <td>...</td>\n",
       "      <td>...</td>\n",
       "      <td>...</td>\n",
       "      <td>...</td>\n",
       "      <td>...</td>\n",
       "      <td>...</td>\n",
       "      <td>...</td>\n",
       "      <td>...</td>\n",
       "      <td>...</td>\n",
       "      <td>...</td>\n",
       "      <td>...</td>\n",
       "      <td>...</td>\n",
       "      <td>...</td>\n",
       "      <td>...</td>\n",
       "      <td>...</td>\n",
       "      <td>...</td>\n",
       "      <td>...</td>\n",
       "      <td>...</td>\n",
       "      <td>...</td>\n",
       "    </tr>\n",
       "    <tr>\n",
       "      <th>2461</th>\n",
       "      <td>391</td>\n",
       "      <td>6708-DPYTF</td>\n",
       "      <td>2</td>\n",
       "      <td>8</td>\n",
       "      <td>2012</td>\n",
       "      <td>9982796720</td>\n",
       "      <td>18</td>\n",
       "      <td>10</td>\n",
       "      <td>2013</td>\n",
       "      <td>17</td>\n",
       "      <td>11</td>\n",
       "      <td>2013</td>\n",
       "      <td>79.61</td>\n",
       "      <td>No</td>\n",
       "      <td>1</td>\n",
       "      <td>12</td>\n",
       "      <td>2013</td>\n",
       "      <td>Electronic</td>\n",
       "      <td>1</td>\n",
       "    </tr>\n",
       "    <tr>\n",
       "      <th>2462</th>\n",
       "      <td>391</td>\n",
       "      <td>9841-XLGBV</td>\n",
       "      <td>3</td>\n",
       "      <td>1</td>\n",
       "      <td>2013</td>\n",
       "      <td>9983237240</td>\n",
       "      <td>19</td>\n",
       "      <td>9</td>\n",
       "      <td>2012</td>\n",
       "      <td>19</td>\n",
       "      <td>10</td>\n",
       "      <td>2012</td>\n",
       "      <td>38.25</td>\n",
       "      <td>No</td>\n",
       "      <td>13</td>\n",
       "      <td>10</td>\n",
       "      <td>2012</td>\n",
       "      <td>Paper</td>\n",
       "      <td>0</td>\n",
       "    </tr>\n",
       "    <tr>\n",
       "      <th>2463</th>\n",
       "      <td>770</td>\n",
       "      <td>7856-ODQFO</td>\n",
       "      <td>5</td>\n",
       "      <td>8</td>\n",
       "      <td>2012</td>\n",
       "      <td>9986249860</td>\n",
       "      <td>2</td>\n",
       "      <td>7</td>\n",
       "      <td>2012</td>\n",
       "      <td>1</td>\n",
       "      <td>8</td>\n",
       "      <td>2012</td>\n",
       "      <td>67.59</td>\n",
       "      <td>No</td>\n",
       "      <td>27</td>\n",
       "      <td>7</td>\n",
       "      <td>2012</td>\n",
       "      <td>Paper</td>\n",
       "      <td>0</td>\n",
       "    </tr>\n",
       "    <tr>\n",
       "      <th>2464</th>\n",
       "      <td>770</td>\n",
       "      <td>7050-KQLDO</td>\n",
       "      <td>29</td>\n",
       "      <td>9</td>\n",
       "      <td>2012</td>\n",
       "      <td>9989225541</td>\n",
       "      <td>27</td>\n",
       "      <td>4</td>\n",
       "      <td>2012</td>\n",
       "      <td>27</td>\n",
       "      <td>5</td>\n",
       "      <td>2012</td>\n",
       "      <td>53.16</td>\n",
       "      <td>No</td>\n",
       "      <td>18</td>\n",
       "      <td>5</td>\n",
       "      <td>2012</td>\n",
       "      <td>Paper</td>\n",
       "      <td>0</td>\n",
       "    </tr>\n",
       "    <tr>\n",
       "      <th>2465</th>\n",
       "      <td>406</td>\n",
       "      <td>9758-AIEIK</td>\n",
       "      <td>23</td>\n",
       "      <td>4</td>\n",
       "      <td>2012</td>\n",
       "      <td>9990243864</td>\n",
       "      <td>4</td>\n",
       "      <td>7</td>\n",
       "      <td>2013</td>\n",
       "      <td>3</td>\n",
       "      <td>8</td>\n",
       "      <td>2013</td>\n",
       "      <td>68.66</td>\n",
       "      <td>No</td>\n",
       "      <td>18</td>\n",
       "      <td>7</td>\n",
       "      <td>2013</td>\n",
       "      <td>Electronic</td>\n",
       "      <td>0</td>\n",
       "    </tr>\n",
       "  </tbody>\n",
       "</table>\n",
       "<p>2466 rows × 19 columns</p>\n",
       "</div>"
      ],
      "text/plain": [
       "      countryCode  customerID  PaperlessDay  PaperlessMonth  PaperlessYear  \\\n",
       "0             391  0379-NEVHP             6               4           2013   \n",
       "1             406  8976-AMJEO             3               3           2012   \n",
       "2             391  2820-XGXSB            26               1           2012   \n",
       "3             406  9322-YCTQO             6               4           2012   \n",
       "4             818  6627-ELFBK            26              11           2012   \n",
       "...           ...         ...           ...             ...            ...   \n",
       "2461          391  6708-DPYTF             2               8           2012   \n",
       "2462          391  9841-XLGBV             3               1           2013   \n",
       "2463          770  7856-ODQFO             5               8           2012   \n",
       "2464          770  7050-KQLDO            29               9           2012   \n",
       "2465          406  9758-AIEIK            23               4           2012   \n",
       "\n",
       "      invoiceNumber  InvoiceDay  InvoiceMonth  InvoiceYear  DueDay  DueMonth  \\\n",
       "0            611365           2             1         2013       1         2   \n",
       "1           7900770          26             1         2013      25         2   \n",
       "2           9231909           3             7         2013       2         8   \n",
       "3           9888306          10             2         2013      12         3   \n",
       "4          15752855          25            10         2012      24        11   \n",
       "...             ...         ...           ...          ...     ...       ...   \n",
       "2461     9982796720          18            10         2013      17        11   \n",
       "2462     9983237240          19             9         2012      19        10   \n",
       "2463     9986249860           2             7         2012       1         8   \n",
       "2464     9989225541          27             4         2012      27         5   \n",
       "2465     9990243864           4             7         2013       3         8   \n",
       "\n",
       "      DueYear  InvoiceAmount Disputed  SettledDay  SettledMonth  SettledYear  \\\n",
       "0        2013          55.94       No          15             1         2013   \n",
       "1        2013          61.74      Yes           3             3         2013   \n",
       "2        2013          65.88       No           8             7         2013   \n",
       "3        2013         105.92       No          17             3         2013   \n",
       "4        2012          72.27      Yes          28            11         2012   \n",
       "...       ...            ...      ...         ...           ...          ...   \n",
       "2461     2013          79.61       No           1            12         2013   \n",
       "2462     2012          38.25       No          13            10         2012   \n",
       "2463     2012          67.59       No          27             7         2012   \n",
       "2464     2012          53.16       No          18             5         2012   \n",
       "2465     2013          68.66       No          18             7         2013   \n",
       "\n",
       "     PaperlessBill  DaysLate  \n",
       "0            Paper         0  \n",
       "1       Electronic         1  \n",
       "2       Electronic         0  \n",
       "3       Electronic         1  \n",
       "4            Paper         1  \n",
       "...            ...       ...  \n",
       "2461    Electronic         1  \n",
       "2462         Paper         0  \n",
       "2463         Paper         0  \n",
       "2464         Paper         0  \n",
       "2465    Electronic         0  \n",
       "\n",
       "[2466 rows x 19 columns]"
      ]
     },
     "execution_count": 7,
     "metadata": {},
     "output_type": "execute_result"
    }
   ],
   "source": [
    "data = split_date_column(data, 'PaperlessDate')\n",
    "data = split_date_column(data, 'InvoiceDate')\n",
    "data = split_date_column(data, 'SettledDate')\n",
    "data = split_date_column(data, 'DueDate')\n",
    "\n",
    "data"
   ]
  },
  {
   "cell_type": "markdown",
   "id": "b269f7bf",
   "metadata": {},
   "source": [
    "Также было решено сделать бинарным параметр `Disputed` для уменьшения предвзятости модели."
   ]
  },
  {
   "cell_type": "code",
   "execution_count": 8,
   "id": "24183844",
   "metadata": {},
   "outputs": [],
   "source": [
    "data['Disputed'] = data['Disputed'].apply(lambda x: 1 if x == 'Yes' else 0)\n"
   ]
  },
  {
   "cell_type": "markdown",
   "id": "95e73ab9",
   "metadata": {},
   "source": [
    "Приведем `countryCode`, `customerID`, `PaperlessBill`, `Disputed` к категоральному типу, так-как значения у этих столбцов дискретные."
   ]
  },
  {
   "cell_type": "code",
   "execution_count": 9,
   "id": "93674ca2",
   "metadata": {},
   "outputs": [],
   "source": [
    "columns_to_change = ['countryCode', 'customerID', 'PaperlessBill', 'Disputed']\n",
    "data[columns_to_change] = data[columns_to_change].astype('category')"
   ]
  },
  {
   "cell_type": "markdown",
   "id": "523a132b",
   "metadata": {},
   "source": [
    "В итоге получаем данную таблицу"
   ]
  },
  {
   "cell_type": "code",
   "execution_count": 10,
   "id": "2a581045",
   "metadata": {},
   "outputs": [
    {
     "name": "stdout",
     "output_type": "stream",
     "text": [
      "<class 'pandas.core.frame.DataFrame'>\n",
      "RangeIndex: 2466 entries, 0 to 2465\n",
      "Data columns (total 19 columns):\n",
      " #   Column          Non-Null Count  Dtype   \n",
      "---  ------          --------------  -----   \n",
      " 0   countryCode     2466 non-null   category\n",
      " 1   customerID      2466 non-null   category\n",
      " 2   PaperlessDay    2466 non-null   int32   \n",
      " 3   PaperlessMonth  2466 non-null   int32   \n",
      " 4   PaperlessYear   2466 non-null   int32   \n",
      " 5   invoiceNumber   2466 non-null   int64   \n",
      " 6   InvoiceDay      2466 non-null   int32   \n",
      " 7   InvoiceMonth    2466 non-null   int32   \n",
      " 8   InvoiceYear     2466 non-null   int32   \n",
      " 9   DueDay          2466 non-null   int32   \n",
      " 10  DueMonth        2466 non-null   int32   \n",
      " 11  DueYear         2466 non-null   int32   \n",
      " 12  InvoiceAmount   2466 non-null   float64 \n",
      " 13  Disputed        2466 non-null   category\n",
      " 14  SettledDay      2466 non-null   int32   \n",
      " 15  SettledMonth    2466 non-null   int32   \n",
      " 16  SettledYear     2466 non-null   int32   \n",
      " 17  PaperlessBill   2466 non-null   category\n",
      " 18  DaysLate        2466 non-null   int64   \n",
      "dtypes: category(4), float64(1), int32(12), int64(2)\n",
      "memory usage: 188.5 KB\n"
     ]
    }
   ],
   "source": [
    "data.info()"
   ]
  },
  {
   "cell_type": "markdown",
   "id": "1e08d3ea",
   "metadata": {},
   "source": [
    "Для обучения с разными параметрами и для подбора наилучших параметров написаны следующие функции\n",
    "\n",
    "+ `prepare_data`: Разделяет входные данные на тренировочную и тестовую выборки"
   ]
  },
  {
   "cell_type": "code",
   "execution_count": 11,
   "id": "7bfd6b4b",
   "metadata": {},
   "outputs": [],
   "source": [
    "def prepare_data(data, target, cat_features, test_size=0.5, random_state=42):\n",
    "    X = data.drop(columns=[target])\n",
    "    y = data[target]\n",
    "    X_train, X_test, y_train, y_test = train_test_split(X, y, test_size=test_size, random_state=random_state)\n",
    "    return X_train, X_test, y_train, y_test, cat_features"
   ]
  },
  {
   "cell_type": "markdown",
   "id": "da8daa0a",
   "metadata": {},
   "source": [
    "+ `objective`: Используется Optuna для оптимизации гиперпараметров. Она обучает модель с текущими параметрами, оценивает её с помощью `ROC AUC` и возвращает результат. Ключевые параметры задаются с помощью методов `suggest_*`."
   ]
  },
  {
   "cell_type": "code",
   "execution_count": 12,
   "id": "afa45f87",
   "metadata": {},
   "outputs": [],
   "source": [
    "def objective(trial, X_train, X_test, y_train, y_test, cat_features):\n",
    "    params = {\n",
    "        \"iterations\": trial.suggest_int(\"iterations\", 100, 1000),  # Количество итераций\n",
    "        \"depth\": trial.suggest_int(\"depth\", 4, 12),  # Глубина деревьев\n",
    "        \"learning_rate\": trial.suggest_float(\"learning_rate\", 1e-4, 0.5, log=True),  # Скорость обучения\n",
    "        \"l2_leaf_reg\": trial.suggest_float(\"l2_leaf_reg\", 1, 10),  # Регуляризация\n",
    "        \"bagging_temperature\": trial.suggest_float(\"bagging_temperature\", 0, 1),  # Температура bagging\n",
    "        \"border_count\": trial.suggest_int(\"border_count\", 1, 255),  # Количество границ для разбиений\n",
    "        \"random_strength\": trial.suggest_float(\"random_strength\", 1e-4, 10, log=True),  # Сила рандомизации\n",
    "        \"verbose\": 0,  # Отключение вывода логов\n",
    "        \"eval_metric\": \"AUC\",  # Метрика оценки\n",
    "        \"task_type\": \"CPU\",  # Выбор устройства (CPU/GPU)\n",
    "    }\n",
    "    \n",
    "    # Создаём CatBoost Pool\n",
    "    train_pool = Pool(X_train, y_train, cat_features=cat_features)\n",
    "    test_pool = Pool(X_test, y_test, cat_features=cat_features)\n",
    "\n",
    "    # Обучение модели CatBoost\n",
    "    model = CatBoostClassifier(**params)\n",
    "    model.fit(train_pool, eval_set=test_pool, early_stopping_rounds=50, verbose=False)\n",
    "    \n",
    "    # Вычисляем ROC AUC на тестовых данных\n",
    "    y_pred_proba = model.predict_proba(X_test)[:, 1]  # Предсказание вероятностей класса 1\n",
    "    roc_auc = roc_auc_score(y_test, y_pred_proba)\n",
    "    return roc_auc"
   ]
  },
  {
   "cell_type": "markdown",
   "id": "cee13bfe",
   "metadata": {},
   "source": [
    "+ `tune_and_train`: Функция\n",
    "    * Разделяет данные на тренировочные и тестовые.\n",
    "    * Запускает Optuna для подбора гиперпараметров.\n",
    "    * Обучает модель с лучшими параметрами.\n",
    "    * Возвращает обученную модель и оптимальные параметры.\n"
   ]
  },
  {
   "cell_type": "code",
   "execution_count": 13,
   "id": "e0ac9326",
   "metadata": {},
   "outputs": [],
   "source": [
    "def tune_and_train(data, target, cat_features, n_trials=50):\n",
    "    # Разделение данных\n",
    "    X_train, X_test, y_train, y_test, cat_features = prepare_data(data, target, cat_features)\n",
    "    \n",
    "    # Создание Optuna-исследования\n",
    "    study = optuna.create_study(study_name=\"accounts_receivable_study\", direction=\"maximize\")  # Оптимизация на максимум\n",
    "    study.optimize(lambda trial: objective(trial, X_train, X_test, y_train, y_test, cat_features), n_trials=n_trials)\n",
    "\n",
    "    # Вывод лучших параметров\n",
    "    print(\"Лучшие параметры:\", study.best_params)\n",
    "    print(\"Лучший показатель ROC AUC:\", study.best_value)\n",
    "    \n",
    "    # Обучение финальной модели с лучшими параметрами\n",
    "    best_params = study.best_params\n",
    "    final_model = CatBoostClassifier(**best_params)\n",
    "    final_model.fit(Pool(X_train, y_train, cat_features=cat_features), verbose=False)\n",
    "    \n",
    "    # Оценка финальной модели\n",
    "    y_pred_proba = final_model.predict_proba(X_test)[:, 1]\n",
    "    roc_auc = roc_auc_score(y_test, y_pred_proba)\n",
    "   \n",
    "    return final_model, study.best_params"
   ]
  },
  {
   "cell_type": "markdown",
   "id": "40256a34",
   "metadata": {},
   "source": [
    "Применяем вышеупомянутые фукнции, указывая категоральные признаки, и получаем"
   ]
  },
  {
   "cell_type": "code",
   "execution_count": 14,
   "id": "63838684",
   "metadata": {},
   "outputs": [
    {
     "name": "stderr",
     "output_type": "stream",
     "text": [
      "[I 2024-11-26 17:39:11,672] A new study created in memory with name: accounts_receivable_study\n",
      "[I 2024-11-26 17:39:50,773] Trial 0 finished with value: 0.9717202122638794 and parameters: {'iterations': 688, 'depth': 6, 'learning_rate': 0.054140928904051214, 'l2_leaf_reg': 4.0215443127959585, 'bagging_temperature': 0.08806505833162903, 'border_count': 112, 'random_strength': 0.000640519056131411}. Best is trial 0 with value: 0.9717202122638794.\n",
      "[I 2024-11-26 17:40:00,755] Trial 1 finished with value: 0.9705316956937139 and parameters: {'iterations': 405, 'depth': 5, 'learning_rate': 0.4258464883854357, 'l2_leaf_reg': 9.209383132217603, 'bagging_temperature': 0.06514809442921377, 'border_count': 32, 'random_strength': 0.005036353035199751}. Best is trial 0 with value: 0.9717202122638794.\n",
      "[I 2024-11-26 17:40:06,266] Trial 2 finished with value: 0.9404216499948199 and parameters: {'iterations': 115, 'depth': 5, 'learning_rate': 0.10920514190702739, 'l2_leaf_reg': 9.013685507175797, 'bagging_temperature': 0.8933416476261524, 'border_count': 172, 'random_strength': 0.0007460216365146831}. Best is trial 0 with value: 0.9717202122638794.\n",
      "[I 2024-11-26 17:40:13,520] Trial 3 finished with value: 0.9653545980914668 and parameters: {'iterations': 895, 'depth': 4, 'learning_rate': 0.1796909023376859, 'l2_leaf_reg': 1.449435837050245, 'bagging_temperature': 0.16239021485101057, 'border_count': 244, 'random_strength': 0.006392351429960339}. Best is trial 0 with value: 0.9717202122638794.\n",
      "[I 2024-11-26 17:40:20,591] Trial 4 finished with value: 0.9215017899692654 and parameters: {'iterations': 267, 'depth': 7, 'learning_rate': 0.0026089916697660124, 'l2_leaf_reg': 5.43693821473805, 'bagging_temperature': 0.1846228015881497, 'border_count': 160, 'random_strength': 0.02630026294165402}. Best is trial 0 with value: 0.9717202122638794.\n",
      "[I 2024-11-26 17:40:45,277] Trial 5 finished with value: 0.9274832226353412 and parameters: {'iterations': 230, 'depth': 12, 'learning_rate': 0.001564304027126527, 'l2_leaf_reg': 9.850199463363735, 'bagging_temperature': 0.08700993196416984, 'border_count': 242, 'random_strength': 0.00021304751880883092}. Best is trial 0 with value: 0.9717202122638794.\n",
      "[I 2024-11-26 17:40:56,627] Trial 6 finished with value: 0.9276314274861003 and parameters: {'iterations': 291, 'depth': 10, 'learning_rate': 0.00019400013811221332, 'l2_leaf_reg': 3.757539119287002, 'bagging_temperature': 0.23239427813112523, 'border_count': 12, 'random_strength': 0.04393934970706573}. Best is trial 0 with value: 0.9717202122638794.\n",
      "[I 2024-11-26 17:41:45,920] Trial 7 finished with value: 0.9718180562430215 and parameters: {'iterations': 655, 'depth': 7, 'learning_rate': 0.1529841708054704, 'l2_leaf_reg': 4.733802721017648, 'bagging_temperature': 0.7888143605265522, 'border_count': 206, 'random_strength': 0.2962650513576746}. Best is trial 7 with value: 0.9718180562430215.\n",
      "[I 2024-11-26 17:41:53,558] Trial 8 finished with value: 0.922016909741807 and parameters: {'iterations': 333, 'depth': 11, 'learning_rate': 0.0023689312152860276, 'l2_leaf_reg': 6.402592323189479, 'bagging_temperature': 0.5077083461956704, 'border_count': 28, 'random_strength': 0.29704764234502545}. Best is trial 7 with value: 0.9718180562430215.\n",
      "[I 2024-11-26 17:41:58,043] Trial 9 finished with value: 0.9323610327719775 and parameters: {'iterations': 261, 'depth': 8, 'learning_rate': 0.0001974235797372717, 'l2_leaf_reg': 1.270693893137786, 'bagging_temperature': 0.4516397860548348, 'border_count': 16, 'random_strength': 0.0008139313149526362}. Best is trial 7 with value: 0.9718180562430215.\n",
      "[I 2024-11-26 17:42:54,052] Trial 10 finished with value: 0.9555644446490854 and parameters: {'iterations': 624, 'depth': 9, 'learning_rate': 0.025577257581959792, 'l2_leaf_reg': 6.8560808964252935, 'bagging_temperature': 0.9330644238543053, 'border_count': 196, 'random_strength': 4.414070296610378}. Best is trial 7 with value: 0.9718180562430215.\n",
      "[I 2024-11-26 17:43:41,298] Trial 11 finished with value: 0.9706640728419647 and parameters: {'iterations': 717, 'depth': 6, 'learning_rate': 0.03100821142706344, 'l2_leaf_reg': 3.9000949916143477, 'bagging_temperature': 0.7256728680577582, 'border_count': 100, 'random_strength': 0.6947425042998752}. Best is trial 7 with value: 0.9718180562430215.\n",
      "[I 2024-11-26 17:44:37,747] Trial 12 finished with value: 0.9696971441069147 and parameters: {'iterations': 787, 'depth': 7, 'learning_rate': 0.030196338319097422, 'l2_leaf_reg': 3.679261018367901, 'bagging_temperature': 0.6486859369822313, 'border_count': 110, 'random_strength': 0.25514713052511834}. Best is trial 7 with value: 0.9718180562430215.\n",
      "[I 2024-11-26 17:45:19,814] Trial 13 finished with value: 0.9659675618431504 and parameters: {'iterations': 529, 'depth': 8, 'learning_rate': 0.08067816340696238, 'l2_leaf_reg': 5.1801496940144425, 'bagging_temperature': 0.3591194188076473, 'border_count': 78, 'random_strength': 4.022856550342263}. Best is trial 7 with value: 0.9718180562430215.\n",
      "[I 2024-11-26 17:45:24,481] Trial 14 finished with value: 0.9212053802677472 and parameters: {'iterations': 541, 'depth': 6, 'learning_rate': 0.010282561982830089, 'l2_leaf_reg': 2.5777103337524987, 'bagging_temperature': 0.7145573301377404, 'border_count': 141, 'random_strength': 0.05021889362157496}. Best is trial 7 with value: 0.9718180562430215.\n",
      "[I 2024-11-26 17:45:45,891] Trial 15 finished with value: 0.9730641280950352 and parameters: {'iterations': 959, 'depth': 4, 'learning_rate': 0.44862751401254636, 'l2_leaf_reg': 7.300680114092243, 'bagging_temperature': 0.5616405833518395, 'border_count': 193, 'random_strength': 0.00015341113607814132}. Best is trial 15 with value: 0.9730641280950352.\n",
      "[I 2024-11-26 17:45:58,292] Trial 16 finished with value: 0.9759649143001853 and parameters: {'iterations': 918, 'depth': 4, 'learning_rate': 0.4894428245496569, 'l2_leaf_reg': 7.6819773522285475, 'bagging_temperature': 0.5968052481266553, 'border_count': 204, 'random_strength': 0.9505681072234374}. Best is trial 16 with value: 0.9759649143001853.\n",
      "[I 2024-11-26 17:46:24,042] Trial 17 finished with value: 0.9745145211976103 and parameters: {'iterations': 993, 'depth': 4, 'learning_rate': 0.22277511845500128, 'l2_leaf_reg': 7.6675704596332945, 'bagging_temperature': 0.5264623803836805, 'border_count': 214, 'random_strength': 1.3114593879584424}. Best is trial 16 with value: 0.9759649143001853.\n",
      "[I 2024-11-26 17:46:41,521] Trial 18 finished with value: 0.9670870120750982 and parameters: {'iterations': 861, 'depth': 4, 'learning_rate': 0.2678425273008303, 'l2_leaf_reg': 7.839289435318345, 'bagging_temperature': 0.32133516315388977, 'border_count': 222, 'random_strength': 1.4582334593983073}. Best is trial 16 with value: 0.9759649143001853.\n",
      "[I 2024-11-26 17:46:49,211] Trial 19 finished with value: 0.8951112543598125 and parameters: {'iterations': 995, 'depth': 5, 'learning_rate': 0.0007399278838503544, 'l2_leaf_reg': 8.199913667822154, 'bagging_temperature': 0.41162039100723546, 'border_count': 167, 'random_strength': 7.2613694429832325}. Best is trial 16 with value: 0.9759649143001853.\n",
      "[I 2024-11-26 17:47:23,277] Trial 20 finished with value: 0.9413166346275598 and parameters: {'iterations': 831, 'depth': 4, 'learning_rate': 0.00860528617315288, 'l2_leaf_reg': 6.231455449820443, 'bagging_temperature': 0.5855993417691134, 'border_count': 220, 'random_strength': 1.1201152423253091}. Best is trial 16 with value: 0.9759649143001853.\n",
      "[I 2024-11-26 17:47:37,340] Trial 21 finished with value: 0.9728108848549031 and parameters: {'iterations': 979, 'depth': 4, 'learning_rate': 0.45153418482195085, 'l2_leaf_reg': 7.495135065287205, 'bagging_temperature': 0.5483773856045824, 'border_count': 190, 'random_strength': 0.109571677674051}. Best is trial 16 with value: 0.9759649143001853.\n",
      "[I 2024-11-26 17:47:53,050] Trial 22 finished with value: 0.9740943676401184 and parameters: {'iterations': 937, 'depth': 5, 'learning_rate': 0.2795316401774508, 'l2_leaf_reg': 7.245124962523611, 'bagging_temperature': 0.5956782110269344, 'border_count': 145, 'random_strength': 0.008491239235543577}. Best is trial 16 with value: 0.9759649143001853.\n",
      "[I 2024-11-26 17:48:24,639] Trial 23 finished with value: 0.9710065267689616 and parameters: {'iterations': 921, 'depth': 5, 'learning_rate': 0.06582577489243506, 'l2_leaf_reg': 8.370946651189758, 'bagging_temperature': 0.6328428033778981, 'border_count': 142, 'random_strength': 0.009525366493982047}. Best is trial 16 with value: 0.9759649143001853.\n",
      "[I 2024-11-26 17:48:36,234] Trial 24 finished with value: 0.9704396072427566 and parameters: {'iterations': 784, 'depth': 5, 'learning_rate': 0.20621872200822303, 'l2_leaf_reg': 6.243752370842042, 'bagging_temperature': 0.7914981592180786, 'border_count': 69, 'random_strength': 0.002125901398307731}. Best is trial 16 with value: 0.9759649143001853.\n",
      "[I 2024-11-26 17:48:55,233] Trial 25 finished with value: 0.9735303258780057 and parameters: {'iterations': 774, 'depth': 6, 'learning_rate': 0.2769124786058657, 'l2_leaf_reg': 8.645643873723714, 'bagging_temperature': 0.4575572430409189, 'border_count': 224, 'random_strength': 0.02008843506056098}. Best is trial 16 with value: 0.9759649143001853.\n",
      "[I 2024-11-26 17:49:26,572] Trial 26 finished with value: 0.9563817296513301 and parameters: {'iterations': 912, 'depth': 4, 'learning_rate': 0.019858616836363755, 'l2_leaf_reg': 7.0081946993396524, 'bagging_temperature': 0.6710727836238786, 'border_count': 175, 'random_strength': 0.11019092822052354}. Best is trial 16 with value: 0.9759649143001853.\n",
      "[I 2024-11-26 17:49:47,430] Trial 27 finished with value: 0.9703935630172781 and parameters: {'iterations': 844, 'depth': 5, 'learning_rate': 0.129591594507716, 'l2_leaf_reg': 9.801240523224873, 'bagging_temperature': 0.3082329841275371, 'border_count': 255, 'random_strength': 2.240740822001238}. Best is trial 16 with value: 0.9759649143001853.\n",
      "[I 2024-11-26 17:50:22,070] Trial 28 finished with value: 0.9606350649799131 and parameters: {'iterations': 996, 'depth': 9, 'learning_rate': 0.053220084447024175, 'l2_leaf_reg': 7.782830897806872, 'bagging_temperature': 0.7910471870041659, 'border_count': 142, 'random_strength': 0.5340575161235661}. Best is trial 16 with value: 0.9759649143001853.\n",
      "[I 2024-11-26 17:51:00,188] Trial 29 finished with value: 0.9713518584600509 and parameters: {'iterations': 709, 'depth': 6, 'learning_rate': 0.05360110565062053, 'l2_leaf_reg': 5.783724148752335, 'bagging_temperature': 0.503987388517368, 'border_count': 128, 'random_strength': 9.54913713911585}. Best is trial 16 with value: 0.9759649143001853.\n",
      "[I 2024-11-26 17:51:13,731] Trial 30 finished with value: 0.968108618327904 and parameters: {'iterations': 593, 'depth': 7, 'learning_rate': 0.2840818992300065, 'l2_leaf_reg': 6.830245698882309, 'bagging_temperature': 0.3966864608425439, 'border_count': 207, 'random_strength': 0.0023058355897933092}. Best is trial 16 with value: 0.9759649143001853.\n",
      "[I 2024-11-26 17:51:26,727] Trial 31 finished with value: 0.9678122086263856 and parameters: {'iterations': 774, 'depth': 6, 'learning_rate': 0.24404578176339603, 'l2_leaf_reg': 8.89177693066369, 'bagging_temperature': 0.449587077304208, 'border_count': 230, 'random_strength': 0.027259352499992114}. Best is trial 16 with value: 0.9759649143001853.\n",
      "[I 2024-11-26 17:51:44,948] Trial 32 finished with value: 0.9753346839639474 and parameters: {'iterations': 924, 'depth': 5, 'learning_rate': 0.49923399490058873, 'l2_leaf_reg': 8.540840144933508, 'bagging_temperature': 0.6005025008055432, 'border_count': 212, 'random_strength': 0.009885321090023666}. Best is trial 16 with value: 0.9759649143001853.\n",
      "[I 2024-11-26 17:51:50,035] Trial 33 finished with value: 0.9708597608002487 and parameters: {'iterations': 925, 'depth': 5, 'learning_rate': 0.47485022164385865, 'l2_leaf_reg': 9.273481593072987, 'bagging_temperature': 0.6010426451047398, 'border_count': 181, 'random_strength': 0.011560494861327117}. Best is trial 16 with value: 0.9759649143001853.\n",
      "[I 2024-11-26 17:52:04,353] Trial 34 finished with value: 0.9712453811886317 and parameters: {'iterations': 470, 'depth': 4, 'learning_rate': 0.10616069505477226, 'l2_leaf_reg': 7.693162906853422, 'bagging_temperature': 0.7210658817323656, 'border_count': 157, 'random_strength': 0.0029801032547564542}. Best is trial 16 with value: 0.9759649143001853.\n",
      "[I 2024-11-26 17:52:18,238] Trial 35 finished with value: 0.9735475924625603 and parameters: {'iterations': 870, 'depth': 5, 'learning_rate': 0.1556044040091884, 'l2_leaf_reg': 8.386750367862287, 'bagging_temperature': 0.5330018071796112, 'border_count': 204, 'random_strength': 0.07856329693202635}. Best is trial 16 with value: 0.9759649143001853.\n",
      "[I 2024-11-26 17:52:27,346] Trial 36 finished with value: 0.9711389039172126 and parameters: {'iterations': 943, 'depth': 4, 'learning_rate': 0.28897906228256187, 'l2_leaf_reg': 9.453154728023334, 'bagging_temperature': 0.6710624891284178, 'border_count': 231, 'random_strength': 0.015917993233829166}. Best is trial 16 with value: 0.9759649143001853.\n",
      "[I 2024-11-26 17:52:56,489] Trial 37 finished with value: 0.973026717161834 and parameters: {'iterations': 891, 'depth': 5, 'learning_rate': 0.10772643534084964, 'l2_leaf_reg': 8.179790548919197, 'bagging_temperature': 0.8901952021421002, 'border_count': 155, 'random_strength': 0.006198170395418982}. Best is trial 16 with value: 0.9759649143001853.\n",
      "[I 2024-11-26 17:53:14,944] Trial 38 finished with value: 0.9718698559966849 and parameters: {'iterations': 822, 'depth': 6, 'learning_rate': 0.33591223869250686, 'l2_leaf_reg': 8.800306787857862, 'bagging_temperature': 0.5984429066731126, 'border_count': 245, 'random_strength': 0.000340796641945302}. Best is trial 16 with value: 0.9759649143001853.\n",
      "[I 2024-11-26 17:53:25,541] Trial 39 finished with value: 0.9698410323115353 and parameters: {'iterations': 735, 'depth': 4, 'learning_rate': 0.17386666027330952, 'l2_leaf_reg': 7.304330050436493, 'bagging_temperature': 0.8392390322066093, 'border_count': 211, 'random_strength': 0.004280586256165825}. Best is trial 16 with value: 0.9759649143001853.\n",
      "[I 2024-11-26 17:53:35,507] Trial 40 finished with value: 0.9215708563074834 and parameters: {'iterations': 179, 'depth': 12, 'learning_rate': 0.014152016583619677, 'l2_leaf_reg': 5.724168062486218, 'bagging_temperature': 0.005564009186446062, 'border_count': 180, 'random_strength': 0.0009845813676220031}. Best is trial 16 with value: 0.9759649143001853.\n",
      "[I 2024-11-26 17:54:05,046] Trial 41 finished with value: 0.9376014411842575 and parameters: {'iterations': 878, 'depth': 5, 'learning_rate': 0.004620885513712509, 'l2_leaf_reg': 8.246052696947318, 'bagging_temperature': 0.513793999853167, 'border_count': 203, 'random_strength': 0.08814809105168808}. Best is trial 16 with value: 0.9759649143001853.\n",
      "[I 2024-11-26 17:54:16,476] Trial 42 finished with value: 0.9693921011131192 and parameters: {'iterations': 947, 'depth': 5, 'learning_rate': 0.19573480229574008, 'l2_leaf_reg': 9.39811074639785, 'bagging_temperature': 0.5404893703624449, 'border_count': 237, 'random_strength': 0.19247898471879898}. Best is trial 16 with value: 0.9759649143001853.\n",
      "[I 2024-11-26 17:54:23,486] Trial 43 finished with value: 0.9708741496207107 and parameters: {'iterations': 881, 'depth': 5, 'learning_rate': 0.16059463673828633, 'l2_leaf_reg': 6.6545514772769145, 'bagging_temperature': 0.4788099760631868, 'border_count': 215, 'random_strength': 0.051306402951984055}. Best is trial 16 with value: 0.9759649143001853.\n",
      "[I 2024-11-26 17:54:34,251] Trial 44 finished with value: 0.9705460845141758 and parameters: {'iterations': 824, 'depth': 4, 'learning_rate': 0.4853332039178183, 'l2_leaf_reg': 8.53232835915329, 'bagging_temperature': 0.6230797769460243, 'border_count': 188, 'random_strength': 2.2590901715134386}. Best is trial 16 with value: 0.9759649143001853.\n",
      "[I 2024-11-26 17:55:00,263] Trial 45 finished with value: 0.9698554211319973 and parameters: {'iterations': 956, 'depth': 6, 'learning_rate': 0.04330914387712578, 'l2_leaf_reg': 7.942088018425045, 'bagging_temperature': 0.6934106233270013, 'border_count': 202, 'random_strength': 0.5387682596213348}. Best is trial 16 with value: 0.9759649143001853.\n",
      "[I 2024-11-26 17:55:02,119] Trial 46 finished with value: 0.9083705524155952 and parameters: {'iterations': 668, 'depth': 5, 'learning_rate': 0.0005745868594157984, 'l2_leaf_reg': 7.14412027947494, 'bagging_temperature': 0.7512951938548083, 'border_count': 249, 'random_strength': 0.0015573424917351415}. Best is trial 16 with value: 0.9759649143001853.\n",
      "[I 2024-11-26 17:55:20,658] Trial 47 finished with value: 0.9662639715446686 and parameters: {'iterations': 902, 'depth': 7, 'learning_rate': 0.08743885713476306, 'l2_leaf_reg': 4.804733601366922, 'bagging_temperature': 0.4155386742348381, 'border_count': 51, 'random_strength': 0.9768839634272882}. Best is trial 16 with value: 0.9759649143001853.\n",
      "[I 2024-11-26 17:55:43,990] Trial 48 finished with value: 0.9666553474612365 and parameters: {'iterations': 968, 'depth': 8, 'learning_rate': 0.34267405921629723, 'l2_leaf_reg': 1.832530198468683, 'bagging_temperature': 0.5585620037074781, 'border_count': 125, 'random_strength': 0.0094677571934796}. Best is trial 16 with value: 0.9759649143001853.\n",
      "[I 2024-11-26 17:56:16,932] Trial 49 finished with value: 0.9513312536691492 and parameters: {'iterations': 860, 'depth': 11, 'learning_rate': 0.12711373497505574, 'l2_leaf_reg': 7.557921040522274, 'bagging_temperature': 0.9884728463027393, 'border_count': 96, 'random_strength': 0.39200002294739383}. Best is trial 16 with value: 0.9759649143001853.\n"
     ]
    },
    {
     "name": "stdout",
     "output_type": "stream",
     "text": [
      "Лучшие параметры: {'iterations': 918, 'depth': 4, 'learning_rate': 0.4894428245496569, 'l2_leaf_reg': 7.6819773522285475, 'bagging_temperature': 0.5968052481266553, 'border_count': 204, 'random_strength': 0.9505681072234374}\n",
      "Лучший показатель ROC AUC: 0.9759649143001853\n",
      "Итоговые лучшие параметры: {'iterations': 918, 'depth': 4, 'learning_rate': 0.4894428245496569, 'l2_leaf_reg': 7.6819773522285475, 'bagging_temperature': 0.5968052481266553, 'border_count': 204, 'random_strength': 0.9505681072234374}\n"
     ]
    }
   ],
   "source": [
    "cat_features = ['countryCode', 'customerID', 'PaperlessBill', 'Disputed']\n",
    "\n",
    "final_model, best_params = tune_and_train(data, target=\"DaysLate\", cat_features=cat_features)\n",
    "\n",
    "print(\"Итоговые лучшие параметры:\", best_params)"
   ]
  }
 ],
 "metadata": {
  "kernelspec": {
   "display_name": "Python 3",
   "language": "python",
   "name": "python3"
  },
  "language_info": {
   "codemirror_mode": {
    "name": "ipython",
    "version": 3
   },
   "file_extension": ".py",
   "mimetype": "text/x-python",
   "name": "python",
   "nbconvert_exporter": "python",
   "pygments_lexer": "ipython3",
   "version": "3.12.7"
  }
 },
 "nbformat": 4,
 "nbformat_minor": 5
}
