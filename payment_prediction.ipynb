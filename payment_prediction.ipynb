{
 "cells": [
  {
   "cell_type": "markdown",
   "id": "b4e07cee",
   "metadata": {},
   "source": [
    "# Проект по \"Введению в финансовые рынки\" по теме \"Дебиторская задолженность\""
   ]
  },
  {
   "cell_type": "markdown",
   "id": "8fdf7702",
   "metadata": {},
   "source": [
    "### **0. Установка зависимостей**\n",
    "\n",
    "Зависимости и их версии перечислены в файле `requirements.txt`"
   ]
  },
  {
   "cell_type": "code",
   "execution_count": null,
   "id": "fc5659ed",
   "metadata": {},
   "outputs": [],
   "source": [
    "!pip3 install requirements.txt"
   ]
  },
  {
   "cell_type": "code",
   "execution_count": null,
   "id": "6375d73c",
   "metadata": {},
   "outputs": [],
   "source": [
    "import pandas as pd\n",
    "import numpy as np\n",
    "\n",
    "import matplotlib.pyplot as plt\n",
    "\n",
    "import seaborn as sns\n",
    "import optuna\n",
    "\n",
    "from catboost import CatBoostClassifier, Pool\n",
    "\n",
    "from sklearn.model_selection import train_test_split, GridSearchCV\n",
    "from sklearn.neighbors import KNeighborsClassifier\n",
    "from sklearn.metrics import accuracy_score, classification_report, mean_squared_error, mean_absolute_error, r2_score, roc_curve, roc_auc_score\n",
    "from sklearn.preprocessing import StandardScaler\n",
    "from sklearn.ensemble import RandomForestClassifier, RandomForestRegressor\n"
   ]
  },
  {
   "cell_type": "markdown",
   "id": "fbc3adfc",
   "metadata": {},
   "source": [
    "### **1. Ознакомление с данными и их предварительная обработка**"
   ]
  },
  {
   "cell_type": "code",
   "execution_count": null,
   "id": "5ee84098",
   "metadata": {},
   "outputs": [],
   "source": [
    "dataset_path = './data/ar_dataset.csv'\n",
    "data = pd.read_csv(dataset_path)\n",
    "data.head(10)"
   ]
  },
  {
   "cell_type": "code",
   "execution_count": null,
   "id": "de319aef",
   "metadata": {},
   "outputs": [],
   "source": [
    "data.info()"
   ]
  },
  {
   "cell_type": "markdown",
   "id": "8973d6ae",
   "metadata": {},
   "source": [
    "### Описание полей датасета\n",
    "\n",
    "+ `countryCode`: Код страны клиента.\n",
    "+ `customerID`: Уникальный идентификатор клиента.\n",
    "+ `PaperlessDate`: Дата перехода на электронные счета.\n",
    "+ `invoiceNumber`: Номер счета.\n",
    "+ `InvoiceDate`: Дата создания счета.\n",
    "+ `DueDate`: Дата, к которой нужно было оплатить счет.\n",
    "+ `InvoiceAmount`: Сумма счета.\n",
    "+ `Disputed`: Указывает, был ли счет оспорен.\n",
    "+ `SettledDate`: Дата оплаты счета.\n",
    "+ `PaperlessBill`: Тип счета (бумажный / электронный).\n",
    "+ `DaysToSettle`: Количество дней, которое потребовалось для оплаты счета.\n",
    "+ `DaysLate`: Количество дней просрочки оплаты."
   ]
  },
  {
   "cell_type": "markdown",
   "id": "4045f91a",
   "metadata": {},
   "source": [
    "Преобразовываем столбцы с датой и временем в нужный нам формат"
   ]
  },
  {
   "cell_type": "code",
   "execution_count": null,
   "id": "768acf02",
   "metadata": {},
   "outputs": [],
   "source": [
    "data['InvoiceDate'] = pd.to_datetime(data['InvoiceDate'])\n",
    "data['DueDate'] = pd.to_datetime(data['DueDate'])\n",
    "data['SettledDate'] = pd.to_datetime(data['SettledDate'])"
   ]
  },
  {
   "cell_type": "markdown",
   "id": "3fcffe5f",
   "metadata": {},
   "source": [
    "Вычисляем DaysOverdue для проверки корректности DaysLate, учета пропусков и создания более гибких таргетов для анализа и моделей"
   ]
  },
  {
   "cell_type": "code",
   "execution_count": null,
   "id": "20228bb2",
   "metadata": {},
   "outputs": [],
   "source": [
    "data['DaysOverdue'] = (data['SettledDate'] - data['DueDate']).dt.days.clip(lower=0)"
   ]
  },
  {
   "cell_type": "markdown",
   "id": "33c45ce1",
   "metadata": {},
   "source": [
    "Сравниваем"
   ]
  },
  {
   "cell_type": "code",
   "execution_count": null,
   "id": "3e6f94e1",
   "metadata": {},
   "outputs": [],
   "source": [
    "data.loc[data['DaysOverdue'] != data['DaysLate'], ['DaysOverdue', 'DaysLate']]"
   ]
  },
  {
   "cell_type": "markdown",
   "id": "ce1ee72c",
   "metadata": {},
   "source": [
    "Так-как `DaysOverdue` и `DaysLate` корректны - продолжаем работу с `DaysLate`."
   ]
  },
  {
   "cell_type": "markdown",
   "id": "60bf7bff",
   "metadata": {},
   "source": [
    "У нас есть таргет для регрессии DaysLate, но ещё нужен бинарный таргет для классификации того, была ли компанией просрочена оплата ранее или нет. Таковым будет являться `OnTimePayment`."
   ]
  },
  {
   "cell_type": "code",
   "execution_count": null,
   "id": "1e2cfc87",
   "metadata": {},
   "outputs": [],
   "source": [
    "data['OnTimePayment'] = (data['DaysLate'] > 0).astype(int)\n",
    "data[['customerID','DaysLate','OnTimePayment']]"
   ]
  },
  {
   "cell_type": "markdown",
   "id": "ad6b66f3",
   "metadata": {},
   "source": [
    "Посмотрим на корреляцию между суммой счета, количеством дней оплаты счета и просрочкой оплаты"
   ]
  },
  {
   "cell_type": "code",
   "execution_count": null,
   "id": "1ea3b92f",
   "metadata": {},
   "outputs": [],
   "source": [
    "correlation = data.loc[:, ~data.columns.isin(['OnTimePayment', 'DaysOverdue'])].corr(numeric_only=True)\n",
    "plt.figure(figsize=(10, 6))\n",
    "sns.heatmap(correlation, annot=True, cmap='coolwarm', fmt='.2f')\n",
    "plt.title(\"Корреляционная матрица\")\n",
    "plt.show()"
   ]
  },
  {
   "cell_type": "markdown",
   "id": "8887ba4f",
   "metadata": {},
   "source": [
    "По тепловой карте можно понять, что:\n",
    " + `DaysToSettle` имеет высокую положительную корреляцию с `DaysLate` (0.82).\n",
    "     * Это ожидаемо, так как количество дней урегулирования связано с задержками.(т.е. нам не нужен этот признак для обучения модели)\n",
    " + `InvoiceAmount` имеет слабую положительную корреляцию с `DaysLate` (0.06)\n",
    "     * Это может указывать на слабое влияние размера счета на просрочку.\n",
    " + `countryCode` тоже имеет положительную корреляцию с `DaysLate` (0.09)\n",
    "     * Это может указывать на некоторое влияние страны компании на просрочку.\n",
    " + `InvoiceNumber` никак не коррелирует с `DaysLate` (0.00)"
   ]
  },
  {
   "cell_type": "markdown",
   "id": "c3be2bcd",
   "metadata": {},
   "source": [
    "Так как нам нужно найти такие признаки которые нам будут известны ещё до предоставления задолженности, то мы из данных признаков учтем только `InvoiceAmount` и `countryCode` и продолжим анализ."
   ]
  },
  {
   "cell_type": "markdown",
   "id": "03a7ec09",
   "metadata": {},
   "source": [
    "***Изначально доступные признаки:***\n",
    "+ `countryCode`\n",
    "+ `InvoiceAmount`\n",
    "+ `PaperlessBill`\n",
    "+ `Disputed`\n",
    "\n",
    "***Поздние признаки (целевые переменные):***\n",
    "\n",
    "+ `DaysToSettle`\n",
    "+ `DaysLate`\n",
    "+ `LatePayment`"
   ]
  },
  {
   "cell_type": "markdown",
   "id": "c65e1beb",
   "metadata": {},
   "source": [
    "## 1.1 Исследование числовых признаков"
   ]
  },
  {
   "cell_type": "markdown",
   "id": "b40d1329",
   "metadata": {},
   "source": [
    "Нужно анализировать распределение сумм счетов и понимать возможные выбросы, чтобы избежать от переобучения модели в будущем"
   ]
  },
  {
   "cell_type": "code",
   "execution_count": null,
   "id": "224ae4a2",
   "metadata": {},
   "outputs": [],
   "source": [
    "plt.figure(figsize=(10, 5))\n",
    "sns.histplot(data['InvoiceAmount'], bins=30, kde=True)\n",
    "plt.title(\"Распределение суммы счетов (InvoiceAmount)\")\n",
    "plt.xlabel(\"InvoiceAmount\")\n",
    "plt.ylabel(\"Частота\")\n",
    "plt.show()"
   ]
  },
  {
   "cell_type": "code",
   "execution_count": null,
   "id": "038bbc5c",
   "metadata": {},
   "outputs": [],
   "source": [
    "plt.figure(figsize=(10, 5))\n",
    "sns.boxplot(data['InvoiceAmount'])\n",
    "plt.title(\"Boxplot суммы счетов (InvoiceAmount)\")\n",
    "plt.show()"
   ]
  },
  {
   "cell_type": "markdown",
   "id": "a27a8db9",
   "metadata": {},
   "source": [
    "**Вывод:** Суммы счетов распределены в основном равномерно, но есть маленькое количество выбросов которые можно обработать логарифмируя значения сумм. "
   ]
  },
  {
   "cell_type": "markdown",
   "id": "261442cd",
   "metadata": {},
   "source": [
    "Теперь рассмотрим распределение просрочек платежа"
   ]
  },
  {
   "cell_type": "code",
   "execution_count": null,
   "id": "8396f604",
   "metadata": {},
   "outputs": [],
   "source": [
    "plt.figure(figsize=(10, 5))\n",
    "sns.histplot(data['DaysLate'], bins=30, kde=True)\n",
    "plt.title(\"Распределение количества дней просрочки (DaysLate)\")\n",
    "plt.xlabel(\"DaysLate\")\n",
    "plt.ylabel(\"Частота\")\n",
    "plt.show()"
   ]
  },
  {
   "cell_type": "markdown",
   "id": "676f0e19",
   "metadata": {},
   "source": [
    "**Вывод:** Большинство значений близко к 0, что подтверждает, что большинство платежей осуществляется вовремя. Есть длинный хвост для значительных задержек (10+ дней)."
   ]
  },
  {
   "cell_type": "markdown",
   "id": "6404567d",
   "metadata": {},
   "source": [
    "### **1.1. Исследование влияния категориальных признаков на просрочку**"
   ]
  },
  {
   "cell_type": "markdown",
   "id": "42ba6332",
   "metadata": {},
   "source": [
    "Влияние `PaperlessBill` на `DaysLate`"
   ]
  },
  {
   "cell_type": "code",
   "execution_count": null,
   "id": "64c1ef01",
   "metadata": {},
   "outputs": [],
   "source": [
    "plt.figure(figsize=(10, 5))\n",
    "sns.boxplot(x='PaperlessBill', y='DaysLate', data=data)\n",
    "plt.title(\"PaperlessBill vs DaysLate\")\n",
    "plt.xlabel(\"Тип счета (PaperlessBill)\")\n",
    "plt.ylabel(\"Количество дней просрочки (DaysLate)\")\n",
    "plt.show()"
   ]
  },
  {
   "cell_type": "code",
   "execution_count": null,
   "id": "551c2d93",
   "metadata": {},
   "outputs": [],
   "source": [
    "plt.figure(figsize=(10, 6))\n",
    "sns.histplot(data=data, x='DaysLate', hue='PaperlessBill', bins=20, kde=True, alpha=0.6)\n",
    "plt.title(\"Гистограмма просрочки (DaysLate) по PaperlessBill\")\n",
    "plt.xlabel(\"DaysLate\")\n",
    "plt.ylabel(\"Количество\")\n",
    "plt.show()"
   ]
  },
  {
   "cell_type": "markdown",
   "id": "744d8cc6",
   "metadata": {},
   "source": [
    "**Вывод:** Электронные счета `Electronic` имеют меньшую вероятность задержки. Основная масса счетов имеет `DaysLate` близким к нулю.\n",
    "Бумажные счета `Paper` демонстрируют большее количество задержек по сравнению с электронными счетами, что заметно по более длинному хвосту в распределении."
   ]
  },
  {
   "cell_type": "markdown",
   "id": "035817f5",
   "metadata": {},
   "source": [
    "Влияние `Disputed` на `DaysLate`"
   ]
  },
  {
   "cell_type": "code",
   "execution_count": null,
   "id": "41160a7f",
   "metadata": {},
   "outputs": [],
   "source": [
    "plt.figure(figsize=(10, 5))\n",
    "sns.boxplot(x='Disputed', y='DaysLate', data=data)\n",
    "plt.title(\"PaperlessBill vs DaysLate BoxPlot\")\n",
    "plt.xlabel(\"Тип счета (PaperlessBill)\")\n",
    "plt.ylabel(\"Количество дней просрочки (DaysLate)\")\n",
    "plt.show()\n",
    "\n",
    "plt.figure(figsize=(10, 6))\n",
    "sns.histplot(data=data, x='DaysLate', hue='Disputed', bins=20, kde=True, alpha=0.6)\n",
    "plt.title(\"Disputed vs DaysLate Histogramm\")\n",
    "plt.xlabel(\"DaysLate\")\n",
    "plt.ylabel(\"Количество\")\n",
    "plt.show()"
   ]
  },
  {
   "cell_type": "markdown",
   "id": "d121088b",
   "metadata": {},
   "source": [
    "**Вывод:** Оспоренные счета имеют больше вероятность просрочки платежа, чем неоспоренные"
   ]
  },
  {
   "cell_type": "markdown",
   "id": "526599b2",
   "metadata": {},
   "source": [
    "### **1.2. Коррекция датасета для обучения модели**"
   ]
  },
  {
   "cell_type": "markdown",
   "id": "10e9aff3",
   "metadata": {},
   "source": [
    "Прологорифмуем все `InvoiceAmount` для обработки выбросов"
   ]
  },
  {
   "cell_type": "code",
   "execution_count": null,
   "id": "455c9b15",
   "metadata": {},
   "outputs": [],
   "source": [
    "data['LogInvoiceAmount'] = np.log1p(data['InvoiceAmount'])\n",
    "\n",
    "plt.figure(figsize=(10, 6))\n",
    "sns.histplot(data['LogInvoiceAmount'], bins=20, kde=True, color='orange', alpha=0.7)\n",
    "plt.title(\"Гистограмма логарифма суммы счетов (LogInvoiceAmount)\")\n",
    "plt.xlabel(\"LogInvoiceAmount\")\n",
    "plt.ylabel(\"Частота\")\n",
    "plt.show()"
   ]
  },
  {
   "cell_type": "code",
   "execution_count": null,
   "id": "36d53a1c",
   "metadata": {},
   "outputs": [],
   "source": [
    "plt.figure(figsize=(10, 10))\n",
    "sns.boxplot(data['LogInvoiceAmount'])\n",
    "plt.title(\"Boxplot суммы логарифмов счетов (LogInvoiceAmount)\")\n",
    "plt.show()"
   ]
  },
  {
   "cell_type": "markdown",
   "id": "9852030c",
   "metadata": {},
   "source": [
    "После логарифмирования нет слишком больших счетов, которые бы могли сильно повлиять на обучения модели."
   ]
  },
  {
   "cell_type": "markdown",
   "id": "a48e2b21",
   "metadata": {},
   "source": [
    "Далее превратим категориальные признаки в числовые используя `one-hot encoding`, чтобы модель сумела на их основе обучиться."
   ]
  },
  {
   "cell_type": "code",
   "execution_count": null,
   "id": "d40971e8",
   "metadata": {},
   "outputs": [],
   "source": [
    "data_encoded = pd.get_dummies(data[['countryCode', 'LogInvoiceAmount','DaysLate', 'OnTimePayment','PaperlessBill','Disputed']], drop_first=True)\n",
    "data_encoded"
   ]
  },
  {
   "cell_type": "markdown",
   "id": "1d8e4f03",
   "metadata": {},
   "source": [
    "## **2. Обучение модели**"
   ]
  },
  {
   "cell_type": "markdown",
   "id": "1582a2fc",
   "metadata": {},
   "source": [
    "Разделение на обучающие и тестовые выборки"
   ]
  },
  {
   "cell_type": "code",
   "execution_count": null,
   "id": "35826b7d",
   "metadata": {},
   "outputs": [],
   "source": [
    "X = data_encoded.drop(columns=['DaysLate', 'OnTimePayment'])\n",
    "y = data_encoded['OnTimePayment'] \n",
    "y_reg = data_encoded[['DaysLate']]\n",
    "\n",
    "X_train, X_test, y_train, y_test = train_test_split(X, y, test_size=0.2, random_state=42)\n",
    "X_train_reg, X_test_reg, y_train_reg, y_test_reg = train_test_split(X, y_reg, test_size=0.2, random_state=42)"
   ]
  },
  {
   "cell_type": "markdown",
   "id": "4a29f8da",
   "metadata": {},
   "source": [
    "Для данной задачин было решено использовать 3 алгоритма и сравнить результаты."
   ]
  },
  {
   "cell_type": "markdown",
   "id": "84fe8fa6",
   "metadata": {},
   "source": [
    "## **2.1. KNN**\n",
    "Для данной задачи классификации было решено использовать алгоритм KNN (K-Nearest-Neighbours), так-как это простой, но мощный алгоритм, который может хорошо работать с небольшими или умеренными наборами данных. Он классифицирует объект на основе метрики близости к соседним объектам. "
   ]
  },
  {
   "cell_type": "markdown",
   "id": "7eb41160",
   "metadata": {},
   "source": [
    "#### Нормализация данных\n",
    "Нормализация выравнивает масштабы данных, что важно для KNN, так как он основан на расстояниях."
   ]
  },
  {
   "cell_type": "code",
   "execution_count": null,
   "id": "e918fc33",
   "metadata": {},
   "outputs": [],
   "source": [
    "scaler = StandardScaler()\n",
    "X_train_scaled = scaler.fit_transform(X_train)\n",
    "X_test_scaled = scaler.transform(X_test)\n",
    "\n",
    "knn_model = KNeighborsClassifier(n_neighbors=5)\n",
    "knn_model.fit(X_train_scaled, y_train)\n",
    "\n",
    "y_pred = knn_model.predict(X_test_scaled)"
   ]
  },
  {
   "cell_type": "markdown",
   "id": "c17af43b",
   "metadata": {},
   "source": [
    "Оценка качества"
   ]
  },
  {
   "cell_type": "code",
   "execution_count": null,
   "id": "787dff1a",
   "metadata": {},
   "outputs": [],
   "source": [
    "accuracy_knn = accuracy_score(y_test, y_pred)\n",
    "print(f\"Точность модели KNN: {accuracy_knn:.2f}\")\n",
    "\n",
    "report = classification_report(y_test, y_pred)\n",
    "print(\"Отчет классификации:\")\n",
    "print(report)"
   ]
  },
  {
   "cell_type": "markdown",
   "id": "a36f8994",
   "metadata": {},
   "source": [
    "Для улучшения модели попытаемся выбрать оптимальное количество соседей"
   ]
  },
  {
   "cell_type": "code",
   "execution_count": null,
   "id": "b183c4e4",
   "metadata": {},
   "outputs": [],
   "source": [
    "param_grid = {'n_neighbors': range(1, 50)}\n",
    "grid_search = GridSearchCV(KNeighborsClassifier(), param_grid, cv=5, scoring='accuracy')\n",
    "grid_search.fit(X_train_scaled, y_train)\n",
    "\n",
    "best_k = grid_search.best_params_['n_neighbors']\n",
    "print(f\"Лучшее значение k: {best_k}\")\n",
    "\n",
    "best_knn_accuracy = grid_search.best_score_\n",
    "print(f\"Точность с оптимальным k: {best_knn_accuracy:.2f}\")"
   ]
  },
  {
   "cell_type": "markdown",
   "id": "6565c859",
   "metadata": {},
   "source": [
    "**Вывод:** С помощью алгоритма KNN мы смогли достичь точности в 73%."
   ]
  },
  {
   "cell_type": "markdown",
   "id": "47634272",
   "metadata": {},
   "source": [
    "## **2.2. RandomForest**\n",
    "\n",
    "Как 2-й подход для решения данной задачи был выбран RandomForest, так-как этот подход для классификации или регрессии является хорошим выбором в ряде случаев из-за его характеристик.\n",
    "С помощью нее мы не только решили не только предугадать будет ли задолженность просрочена или нет, но еще и предсказать на сколько дней."
   ]
  },
  {
   "cell_type": "markdown",
   "id": "d9427243",
   "metadata": {},
   "source": [
    "### **2.2.1. RandomForest Classifier**"
   ]
  },
  {
   "cell_type": "code",
   "execution_count": null,
   "id": "9c0ab388",
   "metadata": {},
   "outputs": [],
   "source": [
    "rf_classifier = RandomForestClassifier(random_state=42)\n",
    "rf_classifier.fit(X_train, y_train)\n",
    "y_pred_reg = rf_classifier.predict(X_test)\n",
    "\n",
    "accuracy_rf_class = accuracy_score(y_test, y_pred)\n",
    "print(f\"Точность модели: {accuracy_rf_class:.2f}\")\n",
    "\n",
    "report = classification_report(y_test, y_pred)\n",
    "print(\"Отчет классификации:\")\n",
    "print(report)"
   ]
  },
  {
   "cell_type": "code",
   "execution_count": null,
   "id": "b4de8a24",
   "metadata": {},
   "outputs": [],
   "source": [
    "feature_importances = pd.Series(rf_classifier.feature_importances_, index=X.columns)\n",
    "feature_importances.sort_values(ascending=False, inplace=True)\n",
    "\n",
    "# Визуализация важности признаков\n",
    "plt.figure(figsize=(10, 6))\n",
    "feature_importances.plot(kind='bar')\n",
    "plt.title(\"Важность признаков\")\n",
    "plt.ylabel(\"Важность\")\n",
    "plt.show()"
   ]
  },
  {
   "cell_type": "markdown",
   "id": "a98b4b37",
   "metadata": {},
   "source": [
    "**Вывод:** \n",
    "+ Общий обзор предсказаний\n",
    "    * 74% объектов, предсказанных как \"оплачено вовремя\", действительно принадлежат этому классу.\n",
    "    * 83% всех объектов класса \"оплачено вовремя\" модель правильно классифицировала.\n",
    "    * 60% предсказанных \"с просрочкой\" действительно имеют задержку.\n",
    "    * Модель нашла только 47% всех объектов с задержкой.\n",
    "\n",
    "+ Важность признаков в `Random Forest Regressor`\n",
    "  - Сумма счета - самый важный признак с важностью около 0.65\n",
    "  - Оспоренные счета также значительно влияют на задержки платежей ~ 0.2"
   ]
  },
  {
   "cell_type": "markdown",
   "id": "1e911ca2",
   "metadata": {},
   "source": [
    "### **2.2.2. RandomForest Regressor**"
   ]
  },
  {
   "cell_type": "code",
   "execution_count": null,
   "id": "157a5d1b",
   "metadata": {},
   "outputs": [],
   "source": [
    "rf_regressor = RandomForestRegressor(random_state=42, n_estimators=100)\n",
    "rf_regressor.fit(X_train_reg, y_train_reg)\n",
    "y_pred = rf_regressor.predict(X_test)\n",
    "\n",
    "mse = mean_squared_error(y_test, y_pred)  # Среднеквадратичная ошибка\n",
    "mae = mean_absolute_error(y_test, y_pred)  # Средняя абсолютная ошибка\n",
    "r2 = r2_score(y_test, y_pred)  # Коэффициент детерминации R^2\n",
    "\n",
    "# Вывод метрик\n",
    "print(f\"Среднеквадратичная ошибка (MSE): {mse:.2f}\")\n",
    "print(f\"Средняя абсолютная ошибка (MAE): {mae:.2f}\")\n",
    "print(f\"R^2 (коэффициент детерминации): {r2:.2f}\")"
   ]
  },
  {
   "cell_type": "code",
   "execution_count": null,
   "id": "24f4927d",
   "metadata": {},
   "outputs": [],
   "source": [
    "feature_importances = pd.Series(rf_regressor.feature_importances_, index=X.columns)\n",
    "feature_importances.sort_values(ascending=False, inplace=True)\n",
    "\n",
    "plt.figure(figsize=(5, 4))\n",
    "feature_importances.plot(kind='bar')\n",
    "plt.title(\"Важность признаков в Random Forest Regressor\")\n",
    "plt.ylabel(\"Важность\")\n",
    "plt.show()\n"
   ]
  },
  {
   "cell_type": "markdown",
   "id": "f9e5013b",
   "metadata": {},
   "source": [
    "**Вывод:**\n",
    "+ Метрики модели `Random Forest Regressor`:\n",
    "  * Среднеквадратичная ошибка `MSE`: 26.99\n",
    "\n",
    "    - Это означает, что в среднем квадрат отклонения предсказанных значений `DaysLate` от фактических составляет около 27.\n",
    "    - `MSE` чувствительна к выбросам: большие ошибки сильнее влияют на итоговую метрику.\n",
    "  * Средняя абсолютная ошибка `MAE`: 3.14\n",
    "\n",
    "    - Модель в среднем ошибается примерно на 3.14 дня, что является более интерпретируемой метрикой, чем `MSE`.\n",
    "    - Это значение указывает на относительное качество модели.\n",
    "  * Коэффициент детерминации `R²`: -117.59\n",
    "\n",
    "    - Отрицательное значение `R²` говорит о том, что модель работает хуже, чем простое предсказание среднего значения. Это указывает на проблемы в обучении модели или неподходящие данные.\n",
    "\n",
    "+ Важность признаков в `Random Forest Regressor`\n",
    "  - Сумма счета - самый важный признак с важностью около 0.65\n",
    "  - Оспоренные счета также значительно влияют на задержки платежей ~0.2"
   ]
  },
  {
   "cell_type": "markdown",
   "id": "cb663e87",
   "metadata": {},
   "source": [
    "### Сравнение точности  2-х моделей классификации"
   ]
  },
  {
   "cell_type": "code",
   "execution_count": null,
   "id": "3c80a908",
   "metadata": {},
   "outputs": [],
   "source": [
    "models = ['Random Forest', 'KNN']\n",
    "accuracies = [accuracy_rf_class, best_knn_accuracy]  \n",
    "\n",
    "plt.figure(figsize=(5, 5))\n",
    "plt.bar(models, accuracies, color=['blue', 'orange', 'green'])\n",
    "plt.title('Сравнение Accuracy между моделями')\n",
    "plt.ylabel('Accuracy')\n",
    "plt.ylim(0, 1)\n",
    "plt.show()"
   ]
  },
  {
   "cell_type": "markdown",
   "id": "3b2cd783",
   "metadata": {},
   "source": [
    "###  ROC-кривая для сравнения моделей классификации\n",
    "ROC-кривая показывает, насколько хорошо модель различает классы. Она строится на основе метрик True Positive Rate (TPR) и False Positive Rate (FPR).\n"
   ]
  },
  {
   "cell_type": "code",
   "execution_count": null,
   "id": "3c89cc05",
   "metadata": {},
   "outputs": [],
   "source": [
    "plt.figure(figsize=(8, 6))\n",
    "\n",
    "# Random Forest\n",
    "fpr_rf, tpr_rf, _ = roc_curve(y_test, rf_classifier.predict_proba(X_test)[:, 1])\n",
    "auc_rf = roc_auc_score(y_test, rf_classifier.predict_proba(X_test)[:, 1])\n",
    "plt.plot(fpr_rf, tpr_rf, label=f'Random Forest (AUC = {auc_rf:.2f})', color='blue')\n",
    "\n",
    "# KNN\n",
    "fpr_knn, tpr_knn, _ = roc_curve(y_test, knn_model.predict_proba(X_test_scaled)[:, 1])\n",
    "auc_knn = roc_auc_score(y_test, knn_model.predict_proba(X_test_scaled)[:, 1])\n",
    "plt.plot(fpr_knn, tpr_knn, label=f'KNN (AUC = {auc_knn:.2f})', color='orange')\n",
    "\n",
    "# линия слу\n",
    "plt.plot([0, 1], [0, 1], 'k--', label='Random')\n",
    "\n",
    "plt.title('Сравнение ROC-кривых между моделями')\n",
    "plt.xlabel('False Positive Rate')\n",
    "plt.ylabel('True Positive Rate')\n",
    "plt.legend()\n",
    "plt.grid()\n",
    "plt.show()"
   ]
  },
  {
   "cell_type": "markdown",
   "id": "4bc1298d",
   "metadata": {},
   "source": [
    "**Вывод:** На основе ROC-кривых видно, что модели (Random Forest и KNN) имеют схожую производительность: AUC для KNN составляет 0.69, а для Random Forest — 0.68. Хотя KNN показывает немного лучшее качество, разница минимальна, и обе модели работают лишь чуть лучше случайного предсказания. "
   ]
  },
  {
   "cell_type": "markdown",
   "id": "6645718d",
   "metadata": {},
   "source": [
    "## **2.3. Binary Classification**"
   ]
  },
  {
   "cell_type": "code",
   "execution_count": null,
   "id": "bed75271",
   "metadata": {},
   "outputs": [],
   "source": [
    "df = pd.read_csv('./data/ar_dataset.csv')\n",
    "df"
   ]
  },
  {
   "cell_type": "code",
   "execution_count": null,
   "id": "8a1686a2",
   "metadata": {},
   "outputs": [],
   "source": [
    "duplicate_counts = df['countryCode'].value_counts() - 1\n",
    "duplicate_counts = len(duplicate_counts > 0)\n",
    "duplicate_counts"
   ]
  },
  {
   "cell_type": "code",
   "execution_count": null,
   "id": "5474350b",
   "metadata": {},
   "outputs": [],
   "source": [
    "df_classification = df.copy()"
   ]
  },
  {
   "cell_type": "code",
   "execution_count": null,
   "id": "d6fd7a36",
   "metadata": {},
   "outputs": [],
   "source": [
    "df_classification['DaysLate'] = df_classification['DaysLate'].apply(lambda x: 1 if x > 0 else x)"
   ]
  },
  {
   "cell_type": "code",
   "execution_count": null,
   "id": "d13982a9",
   "metadata": {},
   "outputs": [],
   "source": [
    "df_classification = df_classification.drop(columns=['DaysToSettle'])"
   ]
  },
  {
   "cell_type": "code",
   "execution_count": null,
   "id": "f660f164",
   "metadata": {},
   "outputs": [],
   "source": [
    "df_classification"
   ]
  },
  {
   "cell_type": "code",
   "execution_count": null,
   "id": "c53d9070",
   "metadata": {},
   "outputs": [],
   "source": [
    "def split_date_column(df, date_column):\n",
    "    \"\"\"\n",
    "    Splits a date column into day, month, and year columns, drops the original column,\n",
    "    and ensures the order of columns remains the same.\n",
    "\n",
    "    Args:\n",
    "        df (pd.DataFrame): Input DataFrame.\n",
    "        date_column (str): Name of the column containing date strings.\n",
    "\n",
    "    Returns:\n",
    "        pd.DataFrame: DataFrame with new columns for day, month, and year, in the correct order.\n",
    "    \"\"\"\n",
    "    # Ensure the column is in datetime format\n",
    "    df[date_column] = pd.to_datetime(df[date_column], format='%m/%d/%Y')\n",
    "\n",
    "    # Extract day, month, and year into new columns\n",
    "    base_name = date_column[:-4]  # Strip \"Date\" suffix\n",
    "    new_columns = {\n",
    "        f'{base_name}Day': df[date_column].dt.day,\n",
    "        f'{base_name}Month': df[date_column].dt.month,\n",
    "        f'{base_name}Year': df[date_column].dt.year\n",
    "    }\n",
    "\n",
    "    # Get the original column order\n",
    "    original_columns = df.columns.tolist()\n",
    "\n",
    "    # Find the index of the date column\n",
    "    date_col_index = original_columns.index(date_column)\n",
    "\n",
    "    # Drop the original date column\n",
    "    df.drop(columns=[date_column], inplace=True)\n",
    "\n",
    "    # Insert new columns in the correct order\n",
    "    for i, (col_name, col_data) in enumerate(new_columns.items()):\n",
    "        df.insert(date_col_index + i, col_name, col_data)\n",
    "\n",
    "    return df"
   ]
  },
  {
   "cell_type": "code",
   "execution_count": null,
   "id": "3740c061",
   "metadata": {},
   "outputs": [],
   "source": [
    "# Converting a date format column into 3 separate columns for day, month, and year\n",
    "\n",
    "df_classification = split_date_column(df_classification, 'PaperlessDate')\n",
    "df_classification = split_date_column(df_classification, 'InvoiceDate')\n",
    "df_classification = split_date_column(df_classification, 'SettledDate')\n",
    "df_classification = split_date_column(df_classification, 'DueDate')"
   ]
  },
  {
   "cell_type": "code",
   "execution_count": null,
   "id": "cd87ca63",
   "metadata": {},
   "outputs": [],
   "source": [
    "df_classification"
   ]
  },
  {
   "cell_type": "code",
   "execution_count": null,
   "id": "24183844",
   "metadata": {},
   "outputs": [],
   "source": [
    "df_classification['Disputed'] = df_classification['Disputed'].apply(lambda x: 1 if x == 'Yes' else 0)\n"
   ]
  },
  {
   "cell_type": "code",
   "execution_count": null,
   "id": "3d22c248",
   "metadata": {},
   "outputs": [],
   "source": [
    "df_classification.dtypes"
   ]
  },
  {
   "cell_type": "code",
   "execution_count": null,
   "id": "93674ca2",
   "metadata": {},
   "outputs": [],
   "source": [
    "columns_to_change = ['countryCode', 'customerID', 'PaperlessBill', 'Disputed']\n",
    "df_classification[columns_to_change] = df_classification[columns_to_change].astype('category')"
   ]
  },
  {
   "cell_type": "code",
   "execution_count": null,
   "id": "2a581045",
   "metadata": {},
   "outputs": [],
   "source": [
    "df_classification.dtypes"
   ]
  },
  {
   "cell_type": "code",
   "execution_count": null,
   "id": "e0ac9326",
   "metadata": {},
   "outputs": [],
   "source": [
    "# Splitting the data into train and test sets\n",
    "def prepare_data(df, target, cat_features, test_size=0.5, random_state=42):\n",
    "    X = df.drop(columns=[target])\n",
    "    y = df[target]\n",
    "    X_train, X_test, y_train, y_test = train_test_split(X, y, test_size=test_size, random_state=random_state)\n",
    "    return X_train, X_test, y_train, y_test, cat_features\n",
    "\n",
    "# Objective function for Optuna\n",
    "def objective(trial, X_train, X_test, y_train, y_test, cat_features):\n",
    "    params = {\n",
    "        \"iterations\": trial.suggest_int(\"iterations\", 100, 1000),\n",
    "        \"depth\": trial.suggest_int(\"depth\", 4, 12),\n",
    "        \"learning_rate\": trial.suggest_float(\"learning_rate\", 1e-4, 0.5, log=True),\n",
    "        \"l2_leaf_reg\": trial.suggest_float(\"l2_leaf_reg\", 1, 10),\n",
    "        \"bagging_temperature\": trial.suggest_float(\"bagging_temperature\", 0, 1),\n",
    "        \"border_count\": trial.suggest_int(\"border_count\", 1, 255),\n",
    "        \"random_strength\": trial.suggest_float(\"random_strength\", 1e-4, 10, log=True),\n",
    "        \"verbose\": 0,\n",
    "        \"eval_metric\": \"AUC\",\n",
    "        \"task_type\": \"CPU\",  # Change to 'GPU' if you have GPU support\n",
    "    }\n",
    "    \n",
    "    # Create CatBoost Pool for train and test\n",
    "    train_pool = Pool(X_train, y_train, cat_features=cat_features)\n",
    "    test_pool = Pool(X_test, y_test, cat_features=cat_features)\n",
    "\n",
    "    # Train CatBoost\n",
    "    model = CatBoostClassifier(**params)\n",
    "    model.fit(train_pool, eval_set=test_pool, early_stopping_rounds=50, verbose=False)\n",
    "    \n",
    "    # Evaluate ROC AUC score\n",
    "    y_pred_proba = model.predict_proba(X_test)[:, 1]  # Probability of class 1\n",
    "    roc_auc = roc_auc_score(y_test, y_pred_proba)\n",
    "    return roc_auc\n",
    "\n",
    "# Main function for training and hyperparameter tuning\n",
    "def tune_and_train(df, target, cat_features, n_trials=50):\n",
    "    X_train, X_test, y_train, y_test, cat_features = prepare_data(df, target, cat_features)\n",
    "    \n",
    "\n",
    "    study = optuna.create_study(direction=\"maximize\")\n",
    "    study.optimize(lambda trial: objective(trial, X_train, X_test, y_train, y_test, cat_features), n_trials=n_trials)\n",
    "\n",
    "    print(\"Best parameters:\", study.best_params)\n",
    "    print(\"Best ROC AUC score:\", study.best_value)\n",
    "    \n",
    "    # Train final model with the best parameters\n",
    "    best_params = study.best_params\n",
    "    final_model = CatBoostClassifier(**best_params)\n",
    "    final_model.fit(Pool(X_train, y_train, cat_features=cat_features), verbose=False)\n",
    "    \n",
    "    # Evaluate the final model\n",
    "    y_pred_proba = final_model.predict_proba(X_test)[:, 1]\n",
    "    roc_auc = roc_auc_score(y_test, y_pred_proba)\n",
    "    print(\"Final model ROC AUC on test set:\", roc_auc)\n",
    "    return final_model, study.best_params\n",
    "\n",
    "# Example usage\n",
    "cat_features = ['countryCode', 'customerID', 'PaperlessBill', 'Disputed']\n",
    "\n",
    "final_model, best_params = tune_and_train(df_classification, target=\"DaysLate\", cat_features=cat_features)\n"
   ]
  },
  {
   "cell_type": "code",
   "execution_count": null,
   "id": "63838684",
   "metadata": {},
   "outputs": [],
   "source": [
    "print(\"Best parameters:\", best_params)"
   ]
  },
  {
   "cell_type": "code",
   "execution_count": null,
   "id": "d86bafdc",
   "metadata": {},
   "outputs": [],
   "source": [
    "a = final_model.predict(df_classification.drop(columns=[\"DaysLate\"]))"
   ]
  },
  {
   "cell_type": "code",
   "execution_count": null,
   "id": "ef908fdf",
   "metadata": {},
   "outputs": [],
   "source": [
    "b = df_classification[\"DaysLate\"].to_list()"
   ]
  },
  {
   "cell_type": "code",
   "execution_count": null,
   "id": "7f8b0447",
   "metadata": {},
   "outputs": [],
   "source": [
    "max([a_i - b_i for a_i, b_i in zip(a, b)])"
   ]
  },
  {
   "cell_type": "code",
   "execution_count": null,
   "id": "5810fafd",
   "metadata": {},
   "outputs": [],
   "source": []
  }
 ],
 "metadata": {
  "kernelspec": {
   "display_name": "Python 3",
   "language": "python",
   "name": "python3"
  },
  "language_info": {
   "codemirror_mode": {
    "name": "ipython",
    "version": 3
   },
   "file_extension": ".py",
   "mimetype": "text/x-python",
   "name": "python",
   "nbconvert_exporter": "python",
   "pygments_lexer": "ipython3",
   "version": "3.12.7"
  }
 },
 "nbformat": 4,
 "nbformat_minor": 5
}
